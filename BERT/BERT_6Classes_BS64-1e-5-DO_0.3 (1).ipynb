{
 "cells": [
  {
   "cell_type": "markdown",
   "metadata": {
    "id": "trCjtGETLcd3"
   },
   "source": [
    "# Fine Tuning Transformer for MultiLabel Text Classification"
   ]
  },
  {
   "cell_type": "markdown",
   "metadata": {
    "id": "pLMjlGk4Lcd4"
   },
   "source": [
    "<a id='section01'></a>\n",
    "### Importing Python Libraries and preparing the environment\n",
    "\n",
    "At this step we will be importing the libraries and modules needed to run our script. Libraries are:\n",
    "* Pandas\n",
    "* Pytorch\n",
    "* Pytorch Utils for Dataset and Dataloader\n",
    "* Transformers\n",
    "* BERT Model and Tokenizer\n",
    "\n",
    "Followed by that we will preapre the device for GPU execeution. This configuration is needed if you want to leverage on onboard GPU.\n",
    "\n",
    "*I have included the code for TPU configuration, but commented it out. If you plan to use the TPU, please comment the GPU execution codes and uncomment the TPU ones to install the packages and define the device.*"
   ]
  },
  {
   "cell_type": "code",
   "execution_count": 1,
   "metadata": {},
   "outputs": [],
   "source": [
    "#Run this before a fresh training to clear the ouput folder, dont run this if you want to continue from previous training\n",
    "#!rm -rf /kaggle/input/previous-model/checkpoint_2.pth\n",
    "#!rm -rf /kaggle/working/*\n",
    "# import gc\n",
    "# gc.collect()\n",
    "# import torch\n",
    "# torch.cuda.empty_cache()"
   ]
  },
  {
   "cell_type": "code",
   "execution_count": 2,
   "metadata": {
    "id": "WD_vnyLXZQzD"
   },
   "outputs": [],
   "source": [
    "# Installing the transformers library and additional libraries if looking process\n",
    "\n",
    "#!pip install -q transformers\n",
    "#!pip install torch\n",
    "\n",
    "#Code for TPU packages install\n",
    "# !curl -q https://raw.githubusercontent.com/pytorch/xla/master/contrib/scripts/env-setup.py -o pytorch-xla-env-setup.py\n",
    "# !python pytorch-xla-env-setup.py --apt-packages libomp5 libopenblas-dev\n",
    "# !pip install torch==2.1.0"
   ]
  },
  {
   "cell_type": "code",
   "execution_count": 3,
   "metadata": {
    "id": "pzM1_ykHaFur"
   },
   "outputs": [],
   "source": [
    "# Importing stock ml libraries\n",
    "import os\n",
    "import numpy as np\n",
    "import pandas as pd\n",
    "from sklearn import metrics\n",
    "import transformers\n",
    "import torch\n",
    "from torch.utils.data import Dataset, DataLoader, RandomSampler, SequentialSampler\n",
    "from transformers import BertTokenizer, BertModel, BertConfig\n",
    "from transformers import AutoTokenizer, AutoModelForSequenceClassification, AdamW, get_linear_schedule_with_warmup\n",
    "\n",
    "#Preparing for TPU usage\n",
    "# import torch_xla\n",
    "# import torch_xla.core.xla_model as xm\n",
    "# device = xm.xla_device()\n",
    "# device"
   ]
  },
  {
   "cell_type": "code",
   "execution_count": 4,
   "metadata": {
    "colab": {
     "base_uri": "https://localhost:8080/",
     "height": 35
    },
    "id": "NLxxwd1scQNv",
    "outputId": "759a237b-2e6e-4274-8b96-f116eeeaec05"
   },
   "outputs": [
    {
     "data": {
      "text/plain": [
       "'cuda'"
      ]
     },
     "execution_count": 4,
     "metadata": {},
     "output_type": "execute_result"
    }
   ],
   "source": [
    "# # Setting up the device for GPU usage\n",
    "\n",
    "from torch import cuda\n",
    "device = 'cuda' if cuda.is_available() else 'cpu'\n",
    "device"
   ]
  },
  {
   "cell_type": "markdown",
   "metadata": {
    "id": "BUVgr8fZLcd5"
   },
   "source": [
    "<a id='section02'></a>\n",
    "### Importing and Pre-Processing the domain data\n",
    "\n",
    "We will be working with the data and preparing for fine tuning purposes.\n",
    "*Assuming that the `train.csv` is already downloaded, unzipped and saved in your `data` folder*\n",
    "\n",
    "* Import the file in a dataframe and give it the headers as per the documentation.\n",
    "* Taking the values of all the categories and coverting it into a list.\n",
    "* The list is appened as a new column and other columns are removed"
   ]
  },
  {
   "cell_type": "code",
   "execution_count": 5,
   "metadata": {
    "colab": {
     "base_uri": "https://localhost:8080/"
    },
    "id": "vqJuC48MScQi",
    "outputId": "70e1dd46-006b-43ff-ea3e-f536d0cd2f6b"
   },
   "outputs": [],
   "source": [
    "# from google.colab import drive\n",
    "# drive.mount('/content/drive')"
   ]
  },
  {
   "cell_type": "code",
   "execution_count": 6,
   "metadata": {},
   "outputs": [
    {
     "name": "stdout",
     "output_type": "stream",
     "text": [
      "test.parquet  train.parquet  validation.parquet\n"
     ]
    }
   ],
   "source": [
    "!ls /datasets/sampled_dataset"
   ]
  },
  {
   "cell_type": "code",
   "execution_count": 7,
   "metadata": {},
   "outputs": [],
   "source": [
    "#!ls /datasets/previous_checkpoint"
   ]
  },
  {
   "cell_type": "code",
   "execution_count": 8,
   "metadata": {
    "id": "mZ7lTlkyaG7u"
   },
   "outputs": [],
   "source": [
    "#Get data from dektop\n",
    "df_train = pd.read_parquet(r\"/datasets/sampled_dataset/train.parquet\")\n",
    "#df2_train = pd.read_parquet(r\"/datasets/toxic_comments_dataset/train-00001-of-00002.parquet\")\n",
    "df_validation = pd.read_parquet(r\"/datasets/sampled_dataset/validation.parquet\")\n",
    "df_test = pd.read_parquet(r\"/datasets/sampled_dataset/test.parquet\")\n",
    "# df_train = df_train.head(1000)\n",
    "# df_test = df_test.head(200)\n",
    "# df_validation = df_validation.head(200)"
   ]
  },
  {
   "cell_type": "code",
   "execution_count": 9,
   "metadata": {},
   "outputs": [
    {
     "name": "stdout",
     "output_type": "stream",
     "text": [
      "96796\n",
      "6582\n",
      "3778\n",
      "71258\n",
      "8674\n",
      "3262\n"
     ]
    }
   ],
   "source": [
    "print(df_train.toxicity.sum())\n",
    "#print(df_train.severe_toxicity.sum())\n",
    "print(df_train.obscene.sum())\n",
    "print(df_train.threat.sum())\n",
    "print(df_train.insult.sum())\n",
    "print(df_train.identity_attack.sum())\n",
    "print(df_train.sexual_explicit.sum())"
   ]
  },
  {
   "cell_type": "code",
   "execution_count": 10,
   "metadata": {},
   "outputs": [
    {
     "data": {
      "text/plain": [
       "array([[0, 0, 0, 0, 0, 0],\n",
       "       [0, 0, 0, 0, 0, 0],\n",
       "       [1, 0, 0, 1, 0, 0],\n",
       "       ...,\n",
       "       [0, 0, 0, 0, 0, 0],\n",
       "       [1, 0, 0, 0, 0, 0],\n",
       "       [0, 0, 0, 0, 0, 0]])"
      ]
     },
     "execution_count": 10,
     "metadata": {},
     "output_type": "execute_result"
    }
   ],
   "source": [
    "target_cols = ['toxicity','obscene','threat','insult','identity_attack','sexual_explicit']\n",
    "df_train[target_cols].values"
   ]
  },
  {
   "cell_type": "markdown",
   "metadata": {
    "id": "uJmGyKeYLcd6"
   },
   "source": [
    "<a id='section03'></a>\n",
    "### Preparing the Dataset and Dataloader\n",
    "\n",
    "We will start with defining few key variables that will be used later during the training/fine tuning stage.\n",
    "Followed by creation of CustomDataset class - This defines how the text is pre-processed before sending it to the neural network. We will also define the Dataloader that will feed  the data in batches to the neural network for suitable training and processing.\n",
    "Dataset and Dataloader are constructs of the PyTorch library for defining and controlling the data pre-processing and its passage to neural network. For further reading into Dataset and Dataloader read the [docs at PyTorch](https://pytorch.org/docs/stable/data.html)\n",
    "\n",
    "#### *CustomDataset* Dataset Class\n",
    "- This class is defined to accept the `tokenizer`, `dataframe` and `max_length` as input and generate tokenized output and tags that is used by the BERT model for training.\n",
    "- We are using the BERT tokenizer to tokenize the data in the `comment_text` column of the dataframe.\n",
    "- The tokenizer uses the `encode_plus` method to perform tokenization and generate the necessary outputs, namely: `ids`, `attention_mask`, `token_type_ids`\n",
    "---\n",
    "- *This is the first difference between the distilbert and bert, where the tokenizer generates the token_type_ids in case of Bert*\n",
    "---\n",
    "- To read further into the tokenizer, [refer to this document](https://huggingface.co/transformers/model_doc/bert.html#berttokenizer)\n",
    "- `targest` is the list of categories labled as `0` or `1` in the dataframe.\n",
    "- The *CustomDataset* class is used to create 2 datasets, for training and for validation.\n",
    "- *Training Dataset* is used to fine tune the model: **80% of the original data**\n",
    "- *Validation Dataset* is used to evaluate the performance of the model. The model has not seen this data during training.\n",
    "\n",
    "#### Dataloader\n",
    "- Dataloader is used to for creating training and validation dataloader that load data to the neural network in a defined manner. This is needed because all the data from the dataset cannot be loaded to the memory at once, hence the amount of dataloaded to the memory and then passed to the neural network needs to be controlled.\n",
    "- This control is achieved using the parameters such as `batch_size` and `max_len`.\n",
    "- Training and Validation dataloaders are used in the training and validation part of the flow respectively"
   ]
  },
  {
   "cell_type": "code",
   "execution_count": 11,
   "metadata": {
    "id": "ikfbFlNHgi8T"
   },
   "outputs": [
    {
     "data": {
      "application/vnd.jupyter.widget-view+json": {
       "model_id": "3c56fd7118e046d0bf323961413b6c0f",
       "version_major": 2,
       "version_minor": 0
      },
      "text/plain": [
       "Downloading vocab.txt:   0%|          | 0.00/226k [00:00<?, ?B/s]"
      ]
     },
     "metadata": {},
     "output_type": "display_data"
    },
    {
     "data": {
      "application/vnd.jupyter.widget-view+json": {
       "model_id": "46a4145627b54a618ae5992b131db770",
       "version_major": 2,
       "version_minor": 0
      },
      "text/plain": [
       "Downloading tokenizer_config.json:   0%|          | 0.00/48.0 [00:00<?, ?B/s]"
      ]
     },
     "metadata": {},
     "output_type": "display_data"
    },
    {
     "data": {
      "application/vnd.jupyter.widget-view+json": {
       "model_id": "7fbfab457af04e95912feed304ca4185",
       "version_major": 2,
       "version_minor": 0
      },
      "text/plain": [
       "Downloading config.json:   0%|          | 0.00/570 [00:00<?, ?B/s]"
      ]
     },
     "metadata": {},
     "output_type": "display_data"
    }
   ],
   "source": [
    "# Sections of config\n",
    "\n",
    "# Defining some key variables that will be used later on in the training\n",
    "MAX_LEN = 300\n",
    "TRAIN_BATCH_SIZE = 64\n",
    "VALID_BATCH_SIZE = 64\n",
    "TEST_BATCH_SIZE = 64\n",
    "EPOCHS = 5\n",
    "LEARNING_RATE = 1e-05\n",
    "NUM_CLASSES = 6\n",
    "#LEARNING_RATE = 2e-05\n",
    "DROPOUT = 0.3\n",
    "tokenizer = BertTokenizer.from_pretrained('bert-base-uncased')"
   ]
  },
  {
   "cell_type": "code",
   "execution_count": 12,
   "metadata": {
    "id": "oFOylAXqiNYK"
   },
   "outputs": [],
   "source": [
    "class CustomDataset(Dataset):\n",
    "\n",
    "    def __init__(self, dataframe, tokenizer, max_len):\n",
    "        self.tokenizer = tokenizer\n",
    "        self.data = dataframe\n",
    "        self.text = dataframe.text\n",
    "        self.targets = dataframe[target_cols].values\n",
    "        self.max_len = max_len\n",
    "\n",
    "    def __len__(self):\n",
    "        return len(self.text)\n",
    "\n",
    "    def __getitem__(self, index):\n",
    "        text = str(self.text[index])\n",
    "        text = \" \".join(text.split())\n",
    "\n",
    "        inputs = self.tokenizer.encode_plus(\n",
    "            text,\n",
    "            None,\n",
    "            add_special_tokens=True,\n",
    "            max_length=self.max_len,\n",
    "            pad_to_max_length=True,\n",
    "            #padding='max_length',\n",
    "            return_token_type_ids=True\n",
    "        )\n",
    "        ids = inputs['input_ids']\n",
    "        mask = inputs['attention_mask']\n",
    "        token_type_ids = inputs[\"token_type_ids\"]\n",
    "\n",
    "\n",
    "        return {\n",
    "            'ids': torch.tensor(ids, dtype=torch.long),\n",
    "            'mask': torch.tensor(mask, dtype=torch.long),\n",
    "            'token_type_ids': torch.tensor(token_type_ids, dtype=torch.long),\n",
    "            'targets': torch.tensor(self.targets[index], dtype=torch.float)\n",
    "        }"
   ]
  },
  {
   "cell_type": "code",
   "execution_count": 13,
   "metadata": {
    "id": "PkDGqarcPowL"
   },
   "outputs": [],
   "source": [
    "# Creating the dataset and dataloader for the neural network\n",
    "\n",
    "#train_size = 0.8\n",
    "train_dataset=df_train\n",
    "test_dataset=df_test\n",
    "validation_dataset=df_validation.reset_index(drop = True)\n",
    "train_dataset = train_dataset.reset_index(drop=True)\n",
    "\n",
    "\n",
    "# print(\"FULL Dataset: {}\".format(new_df.shape))\n",
    "# print(\"TRAIN Dataset: {}\".format(train_dataset.shape))\n",
    "# print(\"TEST Dataset: {}\".format(test_dataset.shape))\n",
    "\n",
    "training_set = CustomDataset(train_dataset, tokenizer, MAX_LEN)\n",
    "testing_set = CustomDataset(test_dataset, tokenizer, MAX_LEN)\n",
    "validation_set = CustomDataset(validation_dataset,tokenizer,MAX_LEN)"
   ]
  },
  {
   "cell_type": "code",
   "execution_count": 14,
   "metadata": {
    "id": "vLpilV73QrXJ"
   },
   "outputs": [],
   "source": [
    "train_params = {'batch_size': TRAIN_BATCH_SIZE,\n",
    "                'shuffle': True,\n",
    "                'num_workers': 0\n",
    "                }\n",
    "\n",
    "test_params = {'batch_size': TEST_BATCH_SIZE,\n",
    "                'shuffle': True,\n",
    "                'num_workers': 0\n",
    "                }\n",
    "\n",
    "validation_params = {'batch_size': VALID_BATCH_SIZE,\n",
    "                'shuffle': True,\n",
    "                'num_workers': 0\n",
    "                }\n",
    "\n",
    "training_loader = DataLoader(training_set, **train_params)\n",
    "testing_loader = DataLoader(testing_set, **test_params)\n",
    "validation_loader = DataLoader(validation_set, **validation_params)"
   ]
  },
  {
   "cell_type": "markdown",
   "metadata": {
    "id": "I0ahyENXLcd6"
   },
   "source": [
    "<a id='section04'></a>\n",
    "### Creating the Neural Network for Fine Tuning\n",
    "\n",
    "#### Neural Network\n",
    " - We will be creating a neural network with the `BERTClass`.\n",
    " - This network will have the `Bert` model.  Follwed by a `Droput` and `Linear Layer`. They are added for the purpose of **Regulariaztion** and **Classification** respectively.\n",
    " - In the forward loop, there are 2 output from the `BertModel` layer.\n",
    " - The second output `output_1` or called the `pooled output` is passed to the `Drop Out layer` and the subsequent output is given to the `Linear layer`.\n",
    " - Keep note the number of dimensions for `Linear Layer` is **6** because that is the total number of categories in which we are looking to classify our model.\n",
    " - The data will be fed to the `BertClass` as defined in the dataset.\n",
    " - Final layer outputs is what will be used to calcuate the loss and to determine the accuracy of models prediction.\n",
    " - We will initiate an instance of the network called `model`. This instance will be used for training and then to save the final trained model for future inference.\n",
    "\n",
    "#### Loss Function and Optimizer\n",
    " - The Loss is defined in the next cell as `loss_fn`.\n",
    " - As defined above, the loss function used will be a combination of Binary Cross Entropy which is implemented as [BCELogits Loss](https://pytorch.org/docs/stable/nn.html#bcewithlogitsloss) in PyTorch\n",
    " - `Optimizer` is defined in the next cell.\n",
    " - `Optimizer` is used to update the weights of the neural network to improve its performance.\n",
    "\n",
    "#### Further Reading\n",
    "- You can refer to my [Pytorch Tutorials](https://github.com/abhimishra91/pytorch-tutorials) to get an intuition of Loss Function and Optimizer.\n",
    "- [Pytorch Documentation for Loss Function](https://pytorch.org/docs/stable/nn.html#loss-functions)\n",
    "- [Pytorch Documentation for Optimizer](https://pytorch.org/docs/stable/optim.html)\n",
    "- Refer to the links provided on the top of the notebook to read more about `BertModel`."
   ]
  },
  {
   "cell_type": "code",
   "execution_count": 15,
   "metadata": {
    "colab": {
     "base_uri": "https://localhost:8080/"
    },
    "id": "DegHNyIEQxB2",
    "outputId": "27dde972-8f93-4208-a3bf-6f47606eab6f"
   },
   "outputs": [
    {
     "data": {
      "application/vnd.jupyter.widget-view+json": {
       "model_id": "9f641070f7624996863e0905ebe4ac91",
       "version_major": 2,
       "version_minor": 0
      },
      "text/plain": [
       "Downloading pytorch_model.bin:   0%|          | 0.00/420M [00:00<?, ?B/s]"
      ]
     },
     "metadata": {},
     "output_type": "display_data"
    },
    {
     "name": "stderr",
     "output_type": "stream",
     "text": [
      "Some weights of the model checkpoint at bert-base-uncased were not used when initializing BertModel: ['cls.predictions.transform.dense.bias', 'cls.predictions.transform.LayerNorm.bias', 'cls.seq_relationship.bias', 'cls.predictions.transform.dense.weight', 'cls.predictions.decoder.weight', 'cls.predictions.transform.LayerNorm.weight', 'cls.seq_relationship.weight', 'cls.predictions.bias']\n",
      "- This IS expected if you are initializing BertModel from the checkpoint of a model trained on another task or with another architecture (e.g. initializing a BertForSequenceClassification model from a BertForPreTraining model).\n",
      "- This IS NOT expected if you are initializing BertModel from the checkpoint of a model that you expect to be exactly identical (initializing a BertForSequenceClassification model from a BertForSequenceClassification model).\n"
     ]
    },
    {
     "name": "stdout",
     "output_type": "stream",
     "text": [
      "No checkpoint found, starting from scratch.\n"
     ]
    }
   ],
   "source": [
    "# Creating the customized model, by adding a drop out and a dense layer on top of distil bert to get the final output for the model.\n",
    "\n",
    "class BERTClass(torch.nn.Module):\n",
    "    def __init__(self):\n",
    "        super(BERTClass, self).__init__()\n",
    "        self.l1 = transformers.BertModel.from_pretrained('bert-base-uncased')\n",
    "        #self.l1 = AutoModelForSequenceClassification.from_pretrained(\"facebook/roberta-hate-speech-dynabench-r4-target\")\n",
    "        self.l2 = torch.nn.Dropout(DROPOUT)\n",
    "        self.l3 = torch.nn.Linear(768, NUM_CLASSES)\n",
    "\n",
    "    def forward(self, ids, mask, token_type_ids):\n",
    "        _, output_1= self.l1(ids, attention_mask = mask, token_type_ids = token_type_ids, return_dict=False)\n",
    "        output_2 = self.l2(output_1)\n",
    "        output = self.l3(output_2)\n",
    "        #logits = self.fc(output)\n",
    "        return output\n",
    "    \n",
    "def loss_fn(outputs, targets):\n",
    "    return torch.nn.BCEWithLogitsLoss()(outputs, targets)\n",
    "    \n",
    "device = torch.device(\"cuda\" if torch.cuda.is_available() else \"cpu\")\n",
    "model = BERTClass()\n",
    "optimizer = torch.optim.AdamW(params =  model.parameters(), lr=LEARNING_RATE)\n",
    "total_steps = len(training_loader) * EPOCHS\n",
    "scheduler = get_linear_schedule_with_warmup(optimizer, num_warmup_steps=0, num_training_steps=total_steps)\n",
    "model.to(device)\n",
    "\n",
    "start_epoch = 0\n",
    "previous_checkpoint = '/datasets/previous_checkpoint/checkpoint.pth'\n",
    "if os.path.exists(previous_checkpoint):\n",
    "    checkpoint = torch.load(previous_checkpoint)\n",
    "    model.load_state_dict(checkpoint['model_state_dict'])\n",
    "    optimizer.load_state_dict(checkpoint['optimizer_state_dict'])\n",
    "    epoch = checkpoint['epoch']\n",
    "    start_epoch = epoch+1\n",
    "    print(f\"Loaded checkpoint from epoch {epoch}\")\n",
    "else:\n",
    "    print(\"No checkpoint found, starting from scratch.\")\n",
    "    #model = BERTClassifier(bert_model_name, num_classes)\n",
    "    #model = BERTClass()\n",
    "\n",
    "# for name, param in model.named_parameters():\n",
    "#     if name.startswith('bert.encoder.layer.1'):\n",
    "#         param.requires_grad = False\n",
    "#     if name.startswith('bert.encoder.layer.2'):\n",
    "#         param.requires_grad = False\n",
    "#     if name.startswith('bert.encoder.layer.3'):\n",
    "#         param.requires_grad = False\n",
    "#     if name.startswith('bert.encoder.layer.4'):\n",
    "#         param.requires_grad = False\n",
    "#     if name.startswith('bert.encoder.layer.5'):\n",
    "#         param.requires_grad = False\n",
    "#     if name.startswith('bert.encoder.layer.6'):\n",
    "#         param.requires_grad = False\n",
    "#     if name.startswith('bert.encoder.layer.7'):\n",
    "#         param.requires_grad = False\n",
    "#     if name.startswith('bert.encoder.layer.8'):\n",
    "#         param.requires_grad = False\n",
    "#     if name.startswith('bert.encoder.layer.9'):\n",
    "#         param.requires_grad = False"
   ]
  },
  {
   "cell_type": "markdown",
   "metadata": {
    "id": "FnGfDWA3Lcd7"
   },
   "source": [
    "<a id='section05'></a>\n",
    "### Fine Tuning the Model\n",
    "\n",
    "After all the effort of loading and preparing the data and datasets, creating the model and defining its loss and optimizer. This is probably the easier steps in the process.\n",
    "\n",
    "Here we define a training function that trains the model on the training dataset created above, specified number of times (EPOCH), An epoch defines how many times the complete data will be passed through the network.\n",
    "\n",
    "Following events happen in this function to fine tune the neural network:\n",
    "- The dataloader passes data to the model based on the batch size.\n",
    "- Subsequent output from the model and the actual category are compared to calculate the loss.\n",
    "- Loss value is used to optimize the weights of the neurons in the network.\n",
    "- After every 5000 steps the loss value is printed in the console.\n",
    "\n",
    "As you can see just in 1 epoch by the final step the model was working with a miniscule loss of 0.022 i.e. the network output is extremely close to the actual output."
   ]
  },
  {
   "cell_type": "code",
   "execution_count": 16,
   "metadata": {
    "id": "B9_DjWmfWx1q"
   },
   "outputs": [],
   "source": [
    "def train(epoch,batch_size):\n",
    "    model.train()\n",
    "\n",
    "    total_loss, total_accuracy = 0, 0\n",
    "\n",
    "    total = len(training_loader)\n",
    "    \n",
    "    fin_targets=[]\n",
    "    fin_outputs=[]\n",
    "\n",
    "    for _,data in enumerate(training_loader, 0):\n",
    "\n",
    "        step = _+1\n",
    "        percent = \"{0:.10f}\".format(100 * (step / float(total)))\n",
    "        lossp = \"{0:.10f}\".format(total_loss/(total*batch_size))\n",
    "        filledLength = int(100 * step // total)\n",
    "        bar = '█' * filledLength + '>'  *(filledLength < 100) + '.' * (99 - filledLength)\n",
    "        print(f'\\rBatch {step}/{total} |{bar}| {percent}% complete, loss={lossp}, accuracy={total_accuracy}', end='')\n",
    "\n",
    "\n",
    "        ids = data['ids'].to(device, dtype = torch.long)\n",
    "        mask = data['mask'].to(device, dtype = torch.long)\n",
    "        token_type_ids = data['token_type_ids'].to(device, dtype = torch.long)\n",
    "        targets = data['targets'].to(device, dtype = torch.float)\n",
    "\n",
    "        outputs = model(ids, mask, token_type_ids)\n",
    "\n",
    "        optimizer.zero_grad()\n",
    "        loss = loss_fn(outputs, targets)\n",
    "        if _%2000==0:\n",
    "            print(f'Epoch: {epoch}, Loss:  {loss.item()}')\n",
    "        \n",
    "        fin_targets.extend(targets.cpu().detach().numpy().tolist())\n",
    "        fin_outputs.extend(torch.sigmoid(outputs).cpu().detach().numpy().tolist())\n",
    "        \n",
    "\n",
    "        optimizer.zero_grad()\n",
    "        loss.backward()\n",
    "        optimizer.step()\n",
    "    return fin_outputs, fin_targets, loss"
   ]
  },
  {
   "cell_type": "code",
   "execution_count": 17,
   "metadata": {
    "colab": {
     "base_uri": "https://localhost:8080/"
    },
    "id": "D4Yl7gXHYSRU",
    "outputId": "ad9a3a25-cc7d-4182-87a3-3ceba1f28a80"
   },
   "outputs": [],
   "source": [
    "# for epoch in range(EPOCHS):\n",
    "#     print('Epoch',epoch+1,'of',EPOCHS)\n",
    "#     train(epoch,8)"
   ]
  },
  {
   "cell_type": "markdown",
   "metadata": {
    "id": "NimXh4bwLcd7"
   },
   "source": [
    "<a id='section06'></a>\n",
    "### Validating the Model\n",
    "\n",
    "During the validation stage we pass the unseen data(Testing Dataset) to the model. This step determines how good the model performs on the unseen data.\n",
    "\n",
    "This unseen data is the 20% of `train.csv` which was seperated during the Dataset creation stage.\n",
    "During the validation stage the weights of the model are not updated. Only the final output is compared to the actual value. This comparison is then used to calcuate the accuracy of the model.\n",
    "\n",
    "As defined above to get a measure of our models performance we are using the following metrics.\n",
    "- Accuracy Score\n",
    "- F1 Micro\n",
    "- F1 Macro\n",
    "\n",
    "We are getting amazing results for all these 3 categories just by training the model for 1 Epoch."
   ]
  },
  {
   "cell_type": "code",
   "execution_count": 18,
   "metadata": {
    "id": "nIEoUm4aQkyl"
   },
   "outputs": [],
   "source": [
    "def validation(model,data_loader,device):\n",
    "    model.eval()\n",
    "    fin_targets=[]\n",
    "    fin_outputs=[]\n",
    "    with torch.no_grad():\n",
    "        for _, data in enumerate(data_loader, 0):\n",
    "            ids = data['ids'].to(device, dtype = torch.long)\n",
    "            mask = data['mask'].to(device, dtype = torch.long)\n",
    "            token_type_ids = data['token_type_ids'].to(device, dtype = torch.long)\n",
    "            targets = data['targets'].to(device, dtype = torch.float)\n",
    "            outputs = model(ids, mask, token_type_ids)\n",
    "            loss = loss_fn(outputs, targets)\n",
    "            fin_targets.extend(targets.cpu().detach().numpy().tolist())\n",
    "            fin_outputs.extend(torch.sigmoid(outputs).cpu().detach().numpy().tolist())\n",
    "    return fin_outputs, fin_targets,loss"
   ]
  },
  {
   "cell_type": "code",
   "execution_count": 19,
   "metadata": {
    "id": "Ov1_3R_pAcMo"
   },
   "outputs": [
    {
     "name": "stderr",
     "output_type": "stream",
     "text": [
      "Truncation was not explicitly activated but `max_length` is provided a specific value, please use `truncation=True` to explicitly truncate examples to max length. Defaulting to 'longest_first' truncation strategy. If you encode pairs of sequences (GLUE-style) with the tokenizer you can select this strategy more precisely by providing a specific strategy to `truncation`.\n"
     ]
    },
    {
     "name": "stdout",
     "output_type": "stream",
     "text": [
      "Epoch 1 of 5\n",
      "Batch 1/3226 |>...................................................................................................| 0.0309981401% complete, loss=0.0000000000, accuracy=0"
     ]
    },
    {
     "name": "stderr",
     "output_type": "stream",
     "text": [
      "/usr/local/lib/python3.9/dist-packages/transformers/tokenization_utils_base.py:2323: FutureWarning: The `pad_to_max_length` argument is deprecated and will be removed in a future version, use `padding=True` or `padding='longest'` to pad to the longest sequence in the batch, or use `padding='max_length'` to pad to a max length. In this case, you can give a specific length with `max_length` (e.g. `max_length=45`) or leave max_length to None to pad to the maximal input size of the model (e.g. 512 for Bert).\n",
      "  warnings.warn(\n"
     ]
    },
    {
     "name": "stdout",
     "output_type": "stream",
     "text": [
      "Epoch: 0, Loss:  0.7170370817184448\n",
      "Batch 2001/3226 |██████████████████████████████████████████████████████████████>.....................................| 62.0272783633% complete, loss=0.0000000000, accuracy=0Epoch: 0, Loss:  0.11164489388465881\n",
      "Batch 3226/3226 |████████████████████████████████████████████████████████████████████████████████████████████████████| 100.0000000000% complete, loss=0.0000000000, accuracy=0"
     ]
    },
    {
     "name": "stderr",
     "output_type": "stream",
     "text": [
      "/usr/local/lib/python3.9/dist-packages/sklearn/metrics/_classification.py:1334: UndefinedMetricWarning: Precision and F-score are ill-defined and being set to 0.0 in samples with no predicted labels. Use `zero_division` parameter to control this behavior.\n",
      "  _warn_prf(average, modifier, msg_start, len(result))\n",
      "/usr/local/lib/python3.9/dist-packages/sklearn/metrics/_classification.py:1334: UndefinedMetricWarning: Recall and F-score are ill-defined and being set to 0.0 in samples with no true labels. Use `zero_division` parameter to control this behavior.\n",
      "  _warn_prf(average, modifier, msg_start, len(result))\n",
      "/usr/local/lib/python3.9/dist-packages/sklearn/metrics/_classification.py:1334: UndefinedMetricWarning: Precision and F-score are ill-defined and being set to 0.0 in samples with no predicted labels. Use `zero_division` parameter to control this behavior.\n",
      "  _warn_prf(average, modifier, msg_start, len(result))\n",
      "/usr/local/lib/python3.9/dist-packages/sklearn/metrics/_classification.py:1334: UndefinedMetricWarning: Recall and F-score are ill-defined and being set to 0.0 in samples with no true labels. Use `zero_division` parameter to control this behavior.\n",
      "  _warn_prf(average, modifier, msg_start, len(result))\n"
     ]
    },
    {
     "name": "stdout",
     "output_type": "stream",
     "text": [
      "Train Accuracy Score = 0.766\n",
      "Train Precision Score (Micro) = 0.835\n",
      "Train Precision Score (Macro) = 0.717\n",
      "Train Recall Score (Micro) = 0.808\n",
      "Train Recall Score (Macro) = 0.563\n",
      "Train F1 Score (Micro) = 0.821\n",
      "Train F1 Score (Macro) = 0.622\n",
      "Train AUC-ROC Score (Micro) = 0.889\n",
      "Train AUC-ROC Score (Macro) = 0.762\n",
      "Training Classification Report\n",
      "==============================\n",
      "              precision    recall  f1-score   support\n",
      "\n",
      "           0       0.86      0.88      0.87     96796\n",
      "           1       0.74      0.50      0.60      6582\n",
      "           2       0.51      0.33      0.40      3778\n",
      "           3       0.83      0.82      0.83     71258\n",
      "           4       0.69      0.48      0.56      8674\n",
      "           5       0.66      0.37      0.47      3262\n",
      "\n",
      "   micro avg       0.83      0.81      0.82    190350\n",
      "   macro avg       0.72      0.56      0.62    190350\n",
      "weighted avg       0.83      0.81      0.81    190350\n",
      " samples avg       0.40      0.39      0.39    190350\n",
      "\n",
      "Validation Accuracy Score = 0.802\n",
      "Validation Precision Score (Micro) = 0.823\n",
      "Validation Precision Score (Micro) = 0.72\n",
      "Validation Recall Score (Micro) = 0.903\n",
      "Validation Recall Score (Macro) = 0.779\n",
      "Validation F1 Score (Micro) = 0.861\n",
      "Validation F1 Score (Macro) = 0.746\n",
      "Validation AUC-ROC Score (Micro) = 0.934\n",
      "Validation AUC-ROC Score (Macro) = 0.866\n",
      "Validation Classification Report\n",
      "================================\n",
      "              precision    recall  f1-score   support\n",
      "\n",
      "           0       0.85      0.95      0.90      5106\n",
      "           1       0.71      0.74      0.72       355\n",
      "           2       0.68      0.59      0.63       192\n",
      "           3       0.84      0.89      0.86      3855\n",
      "           4       0.62      0.76      0.68       425\n",
      "           5       0.62      0.75      0.68       146\n",
      "\n",
      "   micro avg       0.82      0.90      0.86     10079\n",
      "   macro avg       0.72      0.78      0.75     10079\n",
      "weighted avg       0.82      0.90      0.86     10079\n",
      " samples avg       0.42      0.43      0.42     10079\n",
      "\n",
      "Epoch 2 of 5\n",
      "Batch 1/3226 |>...................................................................................................| 0.0309981401% complete, loss=0.0000000000, accuracy=0"
     ]
    },
    {
     "name": "stderr",
     "output_type": "stream",
     "text": [
      "/usr/local/lib/python3.9/dist-packages/transformers/tokenization_utils_base.py:2323: FutureWarning: The `pad_to_max_length` argument is deprecated and will be removed in a future version, use `padding=True` or `padding='longest'` to pad to the longest sequence in the batch, or use `padding='max_length'` to pad to a max length. In this case, you can give a specific length with `max_length` (e.g. `max_length=45`) or leave max_length to None to pad to the maximal input size of the model (e.g. 512 for Bert).\n",
      "  warnings.warn(\n"
     ]
    },
    {
     "name": "stdout",
     "output_type": "stream",
     "text": [
      "Epoch: 1, Loss:  0.07273896038532257\n",
      "Batch 2001/3226 |██████████████████████████████████████████████████████████████>.....................................| 62.0272783633% complete, loss=0.0000000000, accuracy=0Epoch: 1, Loss:  0.07209400087594986\n",
      "Batch 3226/3226 |████████████████████████████████████████████████████████████████████████████████████████████████████| 100.0000000000% complete, loss=0.0000000000, accuracy=0"
     ]
    },
    {
     "name": "stderr",
     "output_type": "stream",
     "text": [
      "/usr/local/lib/python3.9/dist-packages/sklearn/metrics/_classification.py:1334: UndefinedMetricWarning: Precision and F-score are ill-defined and being set to 0.0 in samples with no predicted labels. Use `zero_division` parameter to control this behavior.\n",
      "  _warn_prf(average, modifier, msg_start, len(result))\n",
      "/usr/local/lib/python3.9/dist-packages/sklearn/metrics/_classification.py:1334: UndefinedMetricWarning: Recall and F-score are ill-defined and being set to 0.0 in samples with no true labels. Use `zero_division` parameter to control this behavior.\n",
      "  _warn_prf(average, modifier, msg_start, len(result))\n",
      "/usr/local/lib/python3.9/dist-packages/sklearn/metrics/_classification.py:1334: UndefinedMetricWarning: Precision and F-score are ill-defined and being set to 0.0 in samples with no predicted labels. Use `zero_division` parameter to control this behavior.\n",
      "  _warn_prf(average, modifier, msg_start, len(result))\n",
      "/usr/local/lib/python3.9/dist-packages/sklearn/metrics/_classification.py:1334: UndefinedMetricWarning: Recall and F-score are ill-defined and being set to 0.0 in samples with no true labels. Use `zero_division` parameter to control this behavior.\n",
      "  _warn_prf(average, modifier, msg_start, len(result))\n"
     ]
    },
    {
     "name": "stdout",
     "output_type": "stream",
     "text": [
      "Train Accuracy Score = 0.819\n",
      "Train Precision Score (Micro) = 0.864\n",
      "Train Precision Score (Macro) = 0.786\n",
      "Train Recall Score (Micro) = 0.878\n",
      "Train Recall Score (Macro) = 0.734\n",
      "Train F1 Score (Micro) = 0.871\n",
      "Train F1 Score (Macro) = 0.757\n",
      "Train AUC-ROC Score (Micro) = 0.926\n",
      "Train AUC-ROC Score (Macro) = 0.85\n",
      "Training Classification Report\n",
      "==============================\n",
      "              precision    recall  f1-score   support\n",
      "\n",
      "           0       0.89      0.93      0.91     96796\n",
      "           1       0.77      0.71      0.74      6582\n",
      "           2       0.73      0.59      0.65      3778\n",
      "           3       0.87      0.88      0.87     71258\n",
      "           4       0.72      0.67      0.69      8674\n",
      "           5       0.74      0.64      0.69      3262\n",
      "\n",
      "   micro avg       0.86      0.88      0.87    190350\n",
      "   macro avg       0.79      0.73      0.76    190350\n",
      "weighted avg       0.86      0.88      0.87    190350\n",
      " samples avg       0.42      0.42      0.41    190350\n",
      "\n",
      "Validation Accuracy Score = 0.815\n",
      "Validation Precision Score (Micro) = 0.836\n",
      "Validation Precision Score (Micro) = 0.726\n",
      "Validation Recall Score (Micro) = 0.901\n",
      "Validation Recall Score (Macro) = 0.795\n",
      "Validation F1 Score (Micro) = 0.867\n",
      "Validation F1 Score (Macro) = 0.758\n",
      "Validation AUC-ROC Score (Micro) = 0.934\n",
      "Validation AUC-ROC Score (Macro) = 0.877\n",
      "Validation Classification Report\n",
      "================================\n",
      "              precision    recall  f1-score   support\n",
      "\n",
      "           0       0.87      0.94      0.90      5106\n",
      "           1       0.71      0.77      0.74       355\n",
      "           2       0.67      0.65      0.66       192\n",
      "           3       0.84      0.90      0.87      3855\n",
      "           4       0.65      0.75      0.70       425\n",
      "           5       0.62      0.77      0.69       146\n",
      "\n",
      "   micro avg       0.84      0.90      0.87     10079\n",
      "   macro avg       0.73      0.79      0.76     10079\n",
      "weighted avg       0.84      0.90      0.87     10079\n",
      " samples avg       0.42      0.43      0.41     10079\n",
      "\n",
      "Epoch 3 of 5\n",
      "Batch 1/3226 |>...................................................................................................| 0.0309981401% complete, loss=0.0000000000, accuracy=0"
     ]
    },
    {
     "name": "stderr",
     "output_type": "stream",
     "text": [
      "/usr/local/lib/python3.9/dist-packages/transformers/tokenization_utils_base.py:2323: FutureWarning: The `pad_to_max_length` argument is deprecated and will be removed in a future version, use `padding=True` or `padding='longest'` to pad to the longest sequence in the batch, or use `padding='max_length'` to pad to a max length. In this case, you can give a specific length with `max_length` (e.g. `max_length=45`) or leave max_length to None to pad to the maximal input size of the model (e.g. 512 for Bert).\n",
      "  warnings.warn(\n"
     ]
    },
    {
     "name": "stdout",
     "output_type": "stream",
     "text": [
      "Epoch: 2, Loss:  0.11062644422054291\n",
      "Batch 2001/3226 |██████████████████████████████████████████████████████████████>.....................................| 62.0272783633% complete, loss=0.0000000000, accuracy=0Epoch: 2, Loss:  0.09788356721401215\n",
      "Batch 3226/3226 |████████████████████████████████████████████████████████████████████████████████████████████████████| 100.0000000000% complete, loss=0.0000000000, accuracy=0"
     ]
    },
    {
     "name": "stderr",
     "output_type": "stream",
     "text": [
      "/usr/local/lib/python3.9/dist-packages/sklearn/metrics/_classification.py:1334: UndefinedMetricWarning: Precision and F-score are ill-defined and being set to 0.0 in samples with no predicted labels. Use `zero_division` parameter to control this behavior.\n",
      "  _warn_prf(average, modifier, msg_start, len(result))\n",
      "/usr/local/lib/python3.9/dist-packages/sklearn/metrics/_classification.py:1334: UndefinedMetricWarning: Recall and F-score are ill-defined and being set to 0.0 in samples with no true labels. Use `zero_division` parameter to control this behavior.\n",
      "  _warn_prf(average, modifier, msg_start, len(result))\n",
      "/usr/local/lib/python3.9/dist-packages/sklearn/metrics/_classification.py:1334: UndefinedMetricWarning: Precision and F-score are ill-defined and being set to 0.0 in samples with no predicted labels. Use `zero_division` parameter to control this behavior.\n",
      "  _warn_prf(average, modifier, msg_start, len(result))\n",
      "/usr/local/lib/python3.9/dist-packages/sklearn/metrics/_classification.py:1334: UndefinedMetricWarning: Recall and F-score are ill-defined and being set to 0.0 in samples with no true labels. Use `zero_division` parameter to control this behavior.\n",
      "  _warn_prf(average, modifier, msg_start, len(result))\n"
     ]
    },
    {
     "name": "stdout",
     "output_type": "stream",
     "text": [
      "Train Accuracy Score = 0.838\n",
      "Train Precision Score (Micro) = 0.877\n",
      "Train Precision Score (Macro) = 0.806\n",
      "Train Recall Score (Micro) = 0.9\n",
      "Train Recall Score (Macro) = 0.782\n",
      "Train F1 Score (Micro) = 0.888\n",
      "Train F1 Score (Macro) = 0.793\n",
      "Train AUC-ROC Score (Micro) = 0.938\n",
      "Train AUC-ROC Score (Macro) = 0.876\n",
      "Training Classification Report\n",
      "==============================\n",
      "              precision    recall  f1-score   support\n",
      "\n",
      "           0       0.90      0.94      0.92     96796\n",
      "           1       0.79      0.74      0.77      6582\n",
      "           2       0.75      0.67      0.71      3778\n",
      "           3       0.88      0.90      0.89     71258\n",
      "           4       0.74      0.72      0.73      8674\n",
      "           5       0.77      0.71      0.74      3262\n",
      "\n",
      "   micro avg       0.88      0.90      0.89    190350\n",
      "   macro avg       0.81      0.78      0.79    190350\n",
      "weighted avg       0.88      0.90      0.89    190350\n",
      " samples avg       0.43      0.43      0.42    190350\n",
      "\n",
      "Validation Accuracy Score = 0.814\n",
      "Validation Precision Score (Micro) = 0.83\n",
      "Validation Precision Score (Micro) = 0.74\n",
      "Validation Recall Score (Micro) = 0.907\n",
      "Validation Recall Score (Macro) = 0.782\n",
      "Validation F1 Score (Micro) = 0.867\n",
      "Validation F1 Score (Macro) = 0.76\n",
      "Validation AUC-ROC Score (Micro) = 0.937\n",
      "Validation AUC-ROC Score (Macro) = 0.869\n",
      "Validation Classification Report\n",
      "================================\n",
      "              precision    recall  f1-score   support\n",
      "\n",
      "           0       0.86      0.95      0.90      5106\n",
      "           1       0.74      0.71      0.72       355\n",
      "           2       0.67      0.67      0.67       192\n",
      "           3       0.83      0.91      0.87      3855\n",
      "           4       0.70      0.71      0.70       425\n",
      "           5       0.65      0.75      0.69       146\n",
      "\n",
      "   micro avg       0.83      0.91      0.87     10079\n",
      "   macro avg       0.74      0.78      0.76     10079\n",
      "weighted avg       0.83      0.91      0.87     10079\n",
      " samples avg       0.42      0.43      0.42     10079\n",
      "\n",
      "Epoch 4 of 5\n",
      "Batch 1/3226 |>...................................................................................................| 0.0309981401% complete, loss=0.0000000000, accuracy=0"
     ]
    },
    {
     "name": "stderr",
     "output_type": "stream",
     "text": [
      "/usr/local/lib/python3.9/dist-packages/transformers/tokenization_utils_base.py:2323: FutureWarning: The `pad_to_max_length` argument is deprecated and will be removed in a future version, use `padding=True` or `padding='longest'` to pad to the longest sequence in the batch, or use `padding='max_length'` to pad to a max length. In this case, you can give a specific length with `max_length` (e.g. `max_length=45`) or leave max_length to None to pad to the maximal input size of the model (e.g. 512 for Bert).\n",
      "  warnings.warn(\n"
     ]
    },
    {
     "name": "stdout",
     "output_type": "stream",
     "text": [
      "Epoch: 3, Loss:  0.06344463676214218\n",
      "Batch 2001/3226 |██████████████████████████████████████████████████████████████>.....................................| 62.0272783633% complete, loss=0.0000000000, accuracy=0Epoch: 3, Loss:  0.07553273439407349\n",
      "Batch 3226/3226 |████████████████████████████████████████████████████████████████████████████████████████████████████| 100.0000000000% complete, loss=0.0000000000, accuracy=0"
     ]
    },
    {
     "name": "stderr",
     "output_type": "stream",
     "text": [
      "/usr/local/lib/python3.9/dist-packages/sklearn/metrics/_classification.py:1334: UndefinedMetricWarning: Precision and F-score are ill-defined and being set to 0.0 in samples with no predicted labels. Use `zero_division` parameter to control this behavior.\n",
      "  _warn_prf(average, modifier, msg_start, len(result))\n",
      "/usr/local/lib/python3.9/dist-packages/sklearn/metrics/_classification.py:1334: UndefinedMetricWarning: Recall and F-score are ill-defined and being set to 0.0 in samples with no true labels. Use `zero_division` parameter to control this behavior.\n",
      "  _warn_prf(average, modifier, msg_start, len(result))\n",
      "/usr/local/lib/python3.9/dist-packages/sklearn/metrics/_classification.py:1334: UndefinedMetricWarning: Precision and F-score are ill-defined and being set to 0.0 in samples with no predicted labels. Use `zero_division` parameter to control this behavior.\n",
      "  _warn_prf(average, modifier, msg_start, len(result))\n",
      "/usr/local/lib/python3.9/dist-packages/sklearn/metrics/_classification.py:1334: UndefinedMetricWarning: Recall and F-score are ill-defined and being set to 0.0 in samples with no true labels. Use `zero_division` parameter to control this behavior.\n",
      "  _warn_prf(average, modifier, msg_start, len(result))\n"
     ]
    },
    {
     "name": "stdout",
     "output_type": "stream",
     "text": [
      "Train Accuracy Score = 0.858\n",
      "Train Precision Score (Micro) = 0.892\n",
      "Train Precision Score (Macro) = 0.832\n",
      "Train Recall Score (Micro) = 0.919\n",
      "Train Recall Score (Macro) = 0.823\n",
      "Train F1 Score (Micro) = 0.905\n",
      "Train F1 Score (Macro) = 0.827\n",
      "Train AUC-ROC Score (Micro) = 0.949\n",
      "Train AUC-ROC Score (Macro) = 0.898\n",
      "Training Classification Report\n",
      "==============================\n",
      "              precision    recall  f1-score   support\n",
      "\n",
      "           0       0.92      0.96      0.94     96796\n",
      "           1       0.81      0.78      0.79      6582\n",
      "           2       0.81      0.76      0.78      3778\n",
      "           3       0.89      0.92      0.90     71258\n",
      "           4       0.77      0.77      0.77      8674\n",
      "           5       0.80      0.76      0.78      3262\n",
      "\n",
      "   micro avg       0.89      0.92      0.91    190350\n",
      "   macro avg       0.83      0.82      0.83    190350\n",
      "weighted avg       0.89      0.92      0.90    190350\n",
      " samples avg       0.43      0.44      0.43    190350\n",
      "\n",
      "Validation Accuracy Score = 0.812\n",
      "Validation Precision Score (Micro) = 0.829\n",
      "Validation Precision Score (Micro) = 0.748\n",
      "Validation Recall Score (Micro) = 0.902\n",
      "Validation Recall Score (Macro) = 0.776\n",
      "Validation F1 Score (Micro) = 0.864\n",
      "Validation F1 Score (Macro) = 0.76\n",
      "Validation AUC-ROC Score (Micro) = 0.934\n",
      "Validation AUC-ROC Score (Macro) = 0.866\n",
      "Validation Classification Report\n",
      "================================\n",
      "              precision    recall  f1-score   support\n",
      "\n",
      "           0       0.86      0.94      0.90      5106\n",
      "           1       0.73      0.71      0.72       355\n",
      "           2       0.71      0.62      0.66       192\n",
      "           3       0.82      0.91      0.86      3855\n",
      "           4       0.69      0.72      0.70       425\n",
      "           5       0.67      0.75      0.71       146\n",
      "\n",
      "   micro avg       0.83      0.90      0.86     10079\n",
      "   macro avg       0.75      0.78      0.76     10079\n",
      "weighted avg       0.83      0.90      0.86     10079\n",
      " samples avg       0.42      0.43      0.42     10079\n",
      "\n",
      "Epoch 5 of 5\n",
      "Batch 1/3226 |>...................................................................................................| 0.0309981401% complete, loss=0.0000000000, accuracy=0"
     ]
    },
    {
     "name": "stderr",
     "output_type": "stream",
     "text": [
      "/usr/local/lib/python3.9/dist-packages/transformers/tokenization_utils_base.py:2323: FutureWarning: The `pad_to_max_length` argument is deprecated and will be removed in a future version, use `padding=True` or `padding='longest'` to pad to the longest sequence in the batch, or use `padding='max_length'` to pad to a max length. In this case, you can give a specific length with `max_length` (e.g. `max_length=45`) or leave max_length to None to pad to the maximal input size of the model (e.g. 512 for Bert).\n",
      "  warnings.warn(\n"
     ]
    },
    {
     "name": "stdout",
     "output_type": "stream",
     "text": [
      "Epoch: 4, Loss:  0.0593092143535614\n",
      "Batch 2001/3226 |██████████████████████████████████████████████████████████████>.....................................| 62.0272783633% complete, loss=0.0000000000, accuracy=0Epoch: 4, Loss:  0.07346475124359131\n",
      "Batch 3226/3226 |████████████████████████████████████████████████████████████████████████████████████████████████████| 100.0000000000% complete, loss=0.0000000000, accuracy=0"
     ]
    },
    {
     "name": "stderr",
     "output_type": "stream",
     "text": [
      "/usr/local/lib/python3.9/dist-packages/sklearn/metrics/_classification.py:1334: UndefinedMetricWarning: Precision and F-score are ill-defined and being set to 0.0 in samples with no predicted labels. Use `zero_division` parameter to control this behavior.\n",
      "  _warn_prf(average, modifier, msg_start, len(result))\n",
      "/usr/local/lib/python3.9/dist-packages/sklearn/metrics/_classification.py:1334: UndefinedMetricWarning: Recall and F-score are ill-defined and being set to 0.0 in samples with no true labels. Use `zero_division` parameter to control this behavior.\n",
      "  _warn_prf(average, modifier, msg_start, len(result))\n",
      "/usr/local/lib/python3.9/dist-packages/sklearn/metrics/_classification.py:1334: UndefinedMetricWarning: Precision and F-score are ill-defined and being set to 0.0 in samples with no predicted labels. Use `zero_division` parameter to control this behavior.\n",
      "  _warn_prf(average, modifier, msg_start, len(result))\n",
      "/usr/local/lib/python3.9/dist-packages/sklearn/metrics/_classification.py:1334: UndefinedMetricWarning: Recall and F-score are ill-defined and being set to 0.0 in samples with no true labels. Use `zero_division` parameter to control this behavior.\n",
      "  _warn_prf(average, modifier, msg_start, len(result))\n"
     ]
    },
    {
     "name": "stdout",
     "output_type": "stream",
     "text": [
      "Train Accuracy Score = 0.876\n",
      "Train Precision Score (Micro) = 0.907\n",
      "Train Precision Score (Macro) = 0.855\n",
      "Train Recall Score (Micro) = 0.932\n",
      "Train Recall Score (Macro) = 0.851\n",
      "Train F1 Score (Micro) = 0.92\n",
      "Train F1 Score (Macro) = 0.853\n",
      "Train AUC-ROC Score (Micro) = 0.957\n",
      "Train AUC-ROC Score (Macro) = 0.914\n",
      "Training Classification Report\n",
      "==============================\n",
      "              precision    recall  f1-score   support\n",
      "\n",
      "           0       0.93      0.96      0.95     96796\n",
      "           1       0.83      0.81      0.82      6582\n",
      "           2       0.84      0.82      0.83      3778\n",
      "           3       0.90      0.93      0.91     71258\n",
      "           4       0.81      0.81      0.81      8674\n",
      "           5       0.82      0.78      0.80      3262\n",
      "\n",
      "   micro avg       0.91      0.93      0.92    190350\n",
      "   macro avg       0.85      0.85      0.85    190350\n",
      "weighted avg       0.91      0.93      0.92    190350\n",
      " samples avg       0.44      0.44      0.44    190350\n",
      "\n",
      "Validation Accuracy Score = 0.802\n",
      "Validation Precision Score (Micro) = 0.804\n",
      "Validation Precision Score (Micro) = 0.716\n",
      "Validation Recall Score (Micro) = 0.921\n",
      "Validation Recall Score (Macro) = 0.81\n",
      "Validation F1 Score (Micro) = 0.859\n",
      "Validation F1 Score (Macro) = 0.757\n",
      "Validation AUC-ROC Score (Micro) = 0.94\n",
      "Validation AUC-ROC Score (Macro) = 0.878\n",
      "Validation Classification Report\n",
      "================================\n",
      "              precision    recall  f1-score   support\n",
      "\n",
      "           0       0.84      0.96      0.89      5106\n",
      "           1       0.76      0.70      0.72       355\n",
      "           2       0.65      0.70      0.67       192\n",
      "           3       0.81      0.92      0.86      3855\n",
      "           4       0.59      0.85      0.69       425\n",
      "           5       0.66      0.73      0.69       146\n",
      "\n",
      "   micro avg       0.80      0.92      0.86     10079\n",
      "   macro avg       0.72      0.81      0.76     10079\n",
      "weighted avg       0.81      0.92      0.86     10079\n",
      " samples avg       0.42      0.44      0.42     10079\n",
      "\n"
     ]
    }
   ],
   "source": [
    "from collections import defaultdict\n",
    "history = defaultdict(list)\n",
    "\n",
    "for epoch in range(start_epoch, EPOCHS):\n",
    "    print('Epoch',epoch+1,'of',EPOCHS)\n",
    "    train_op, train_target,train_loss = train(epoch,TRAIN_BATCH_SIZE)\n",
    "    val_op, val_target,val_loss = validation(model,validation_loader,device)\n",
    "    train_op = np.array(train_op) >= 0.5\n",
    "    \n",
    "    val_op = np.array(val_op) >= 0.5\n",
    "    train_accuracy = round(metrics.accuracy_score(train_target, train_op),3)\n",
    "    train_precision_score_micro = round(metrics.precision_score(train_target, train_op, average='micro'),3)\n",
    "    train_precision_score_macro = round(metrics.precision_score(train_target, train_op, average='macro'),3)\n",
    "    train_recall_score_micro = round(metrics.recall_score(train_target, train_op, average='micro'),3)\n",
    "    train_recall_score_macro = round(metrics.recall_score(train_target, train_op, average='macro'),3)\n",
    "    train_f1_score_micro = round(metrics.f1_score(train_target, train_op, average='micro'),3)\n",
    "    train_f1_score_macro = round(metrics.f1_score(train_target, train_op, average='macro'),3)\n",
    "    train_auc_roc_micro = round(metrics.roc_auc_score(train_target, train_op, average='micro'),3)\n",
    "    train_auc_roc_macro = round(metrics.roc_auc_score(train_target, train_op, average='macro'),3)\n",
    "    train_clf = metrics.classification_report(train_target, train_op)\n",
    "    \n",
    "    val_accuracy = round(metrics.accuracy_score(val_target, val_op),3)\n",
    "    val_precision_score_micro = round(metrics.precision_score(val_target, val_op, average='micro'),3)\n",
    "    val_precision_score_macro = round(metrics.precision_score(val_target, val_op, average='macro'),3)\n",
    "    val_recall_score_micro = round(metrics.recall_score(val_target, val_op, average='micro'),3)\n",
    "    val_recall_score_macro = round(metrics.recall_score(val_target, val_op, average='macro'),3)\n",
    "    val_f1_score_micro = round(metrics.f1_score(val_target, val_op, average='micro'),3)\n",
    "    val_f1_score_macro = round(metrics.f1_score(val_target, val_op, average='macro'),3)\n",
    "    val_auc_roc_micro = round(metrics.roc_auc_score(val_target, val_op, average='micro'),3)\n",
    "    val_auc_roc_macro = round(metrics.roc_auc_score(val_target, val_op, average='macro'),3)\n",
    "    val_clf = metrics.classification_report(val_target,val_op)\n",
    "    \n",
    "#     if os.path.exists(model_path):\n",
    "#         os.remove(model_path)  #Delete the previous file if any\n",
    "    path = 'Output/checkpoint_' + str(epoch+1)+'.pth'\n",
    "    torch.save({\n",
    "            'epoch': epoch,\n",
    "            'model_state_dict': model.state_dict(),\n",
    "            'optimizer_state_dict': optimizer.state_dict(),\n",
    "            'loss': train_loss,\n",
    "            }, path)\n",
    "    \n",
    "    \n",
    "    history['train_acc'].append(train_accuracy)\n",
    "    history['train_loss'].append(round(train_loss.item(),4))\n",
    "    history['train_precision_score_micro'].append(train_precision_score_micro)\n",
    "    history['train_precision_score_macro'].append(train_precision_score_macro)    \n",
    "    history['train_recall_score_micro'].append(train_recall_score_micro)\n",
    "    history['train_recall_score_macro'].append(train_recall_score_macro)\n",
    "    history['train_f1_score_micro'].append(train_f1_score_micro)\n",
    "    history['train_f1_score_macro'].append(train_f1_score_macro)\n",
    "    history['train_rocauc_score_micro'].append(train_auc_roc_micro)\n",
    "    history['train_rocauc_score_macro'].append(train_auc_roc_macro)\n",
    "    \n",
    "    history['val_acc'].append(val_accuracy)\n",
    "    history['val_loss'].append(round(val_loss.item(),4))\n",
    "    history['val_precision_score_micro'].append(val_precision_score_micro)\n",
    "    history['val_precision_score_macro'].append(val_precision_score_macro)\n",
    "    history['val_recall_score_micro'].append(val_recall_score_micro)\n",
    "    history['val_recall_score_macro'].append(val_recall_score_macro)\n",
    "    history['val_f1_score_micro'].append(val_f1_score_micro)\n",
    "    history['val_f1_score_macro'].append(val_f1_score_macro)  \n",
    "    history['val_rocauc_score_micro'].append(val_auc_roc_micro)\n",
    "    history['val_rocauc_score_macro'].append(val_auc_roc_macro)\n",
    "    \n",
    "    print(f\"Train Accuracy Score = {train_accuracy}\")\n",
    "    print(f\"Train Precision Score (Micro) = {train_precision_score_micro}\")\n",
    "    print(f\"Train Precision Score (Macro) = {train_precision_score_macro}\")\n",
    "    print(f\"Train Recall Score (Micro) = {train_recall_score_micro}\")\n",
    "    print(f\"Train Recall Score (Macro) = {train_recall_score_macro}\")\n",
    "    print(f\"Train F1 Score (Micro) = {train_f1_score_micro}\")\n",
    "    print(f\"Train F1 Score (Macro) = {train_f1_score_macro}\")\n",
    "    print(f\"Train AUC-ROC Score (Micro) = {train_auc_roc_micro}\")\n",
    "    print(f\"Train AUC-ROC Score (Macro) = {train_auc_roc_macro}\")\n",
    "    print(\"Training Classification Report\")\n",
    "    print(\"==============================\")\n",
    "    print(train_clf)\n",
    "    \n",
    "    print(f\"Validation Accuracy Score = {val_accuracy}\")\n",
    "    print(f\"Validation Precision Score (Micro) = {val_precision_score_micro}\")\n",
    "    print(f\"Validation Precision Score (Micro) = {val_precision_score_macro}\")\n",
    "    print(f\"Validation Recall Score (Micro) = {val_recall_score_micro}\")\n",
    "    print(f\"Validation Recall Score (Macro) = {val_recall_score_macro}\")\n",
    "    print(f\"Validation F1 Score (Micro) = {val_f1_score_micro}\")\n",
    "    print(f\"Validation F1 Score (Macro) = {val_f1_score_macro}\")\n",
    "    print(f\"Validation AUC-ROC Score (Micro) = {val_auc_roc_micro}\")\n",
    "    print(f\"Validation AUC-ROC Score (Macro) = {val_auc_roc_macro}\")\n",
    "    print(\"Validation Classification Report\")\n",
    "    print(\"================================\")\n",
    "    print(val_clf)"
   ]
  },
  {
   "cell_type": "code",
   "execution_count": 20,
   "metadata": {},
   "outputs": [
    {
     "data": {
      "image/png": "[encoded data removed]",
      "text/plain": [
       "<Figure size 640x480 with 1 Axes>"
      ]
     },
     "metadata": {},
     "output_type": "display_data"
    },
    {
     "data": {
      "image/png": "[encoded data removed]",
      "text/plain": [
       "<Figure size 640x480 with 1 Axes>"
      ]
     },
     "metadata": {},
     "output_type": "display_data"
    }
   ],
   "source": [
    "import matplotlib.pyplot as plt\n",
    "plt.plot(history['train_acc'], label='train accuracy')\n",
    "plt.plot(history['val_acc'], label='validation accuracy')\n",
    "plt.title('Training history')\n",
    "plt.ylabel('Accuracy')\n",
    "plt.xlabel('Epoch')\n",
    "plt.legend()\n",
    "plt.ylim([0, 1]);\n",
    "plt.show()\n",
    "\n",
    "plt.plot(history['train_loss'], label='training loss')\n",
    "plt.plot(history['val_loss'], label='validation loss')\n",
    "plt.title('Training history')\n",
    "plt.ylabel('Loss')\n",
    "plt.xlabel('Epoch')\n",
    "plt.legend()\n",
    "plt.ylim([0, 1]);\n",
    "plt.show()"
   ]
  },
  {
   "cell_type": "code",
   "execution_count": 21,
   "metadata": {},
   "outputs": [
    {
     "data": {
      "text/plain": [
       "defaultdict(list,\n",
       "            {'train_acc': [0.766, 0.819, 0.838, 0.858, 0.876],\n",
       "             'train_loss': [0.0851, 0.0802, 0.1354, 0.0872, 0.0565],\n",
       "             'train_precision_score_micro': [0.835,\n",
       "              0.864,\n",
       "              0.877,\n",
       "              0.892,\n",
       "              0.907],\n",
       "             'train_precision_score_macro': [0.717,\n",
       "              0.786,\n",
       "              0.806,\n",
       "              0.832,\n",
       "              0.855],\n",
       "             'train_recall_score_micro': [0.808, 0.878, 0.9, 0.919, 0.932],\n",
       "             'train_recall_score_macro': [0.563, 0.734, 0.782, 0.823, 0.851],\n",
       "             'train_f1_score_micro': [0.821, 0.871, 0.888, 0.905, 0.92],\n",
       "             'train_f1_score_macro': [0.622, 0.757, 0.793, 0.827, 0.853],\n",
       "             'train_rocauc_score_micro': [0.889, 0.926, 0.938, 0.949, 0.957],\n",
       "             'train_rocauc_score_macro': [0.762, 0.85, 0.876, 0.898, 0.914],\n",
       "             'val_acc': [0.802, 0.815, 0.814, 0.812, 0.802],\n",
       "             'val_loss': [0.0964, 0.3003, 0.1141, 0.1778, 0.2521],\n",
       "             'val_precision_score_micro': [0.823, 0.836, 0.83, 0.829, 0.804],\n",
       "             'val_precision_score_macro': [0.72, 0.726, 0.74, 0.748, 0.716],\n",
       "             'val_recall_score_micro': [0.903, 0.901, 0.907, 0.902, 0.921],\n",
       "             'val_recall_score_macro': [0.779, 0.795, 0.782, 0.776, 0.81],\n",
       "             'val_f1_score_micro': [0.861, 0.867, 0.867, 0.864, 0.859],\n",
       "             'val_f1_score_macro': [0.746, 0.758, 0.76, 0.76, 0.757],\n",
       "             'val_rocauc_score_micro': [0.934, 0.934, 0.937, 0.934, 0.94],\n",
       "             'val_rocauc_score_macro': [0.866, 0.877, 0.869, 0.866, 0.878]})"
      ]
     },
     "execution_count": 21,
     "metadata": {},
     "output_type": "execute_result"
    }
   ],
   "source": [
    "history"
   ]
  },
  {
   "cell_type": "code",
   "execution_count": 22,
   "metadata": {},
   "outputs": [
    {
     "name": "stderr",
     "output_type": "stream",
     "text": [
      "/usr/local/lib/python3.9/dist-packages/transformers/tokenization_utils_base.py:2323: FutureWarning: The `pad_to_max_length` argument is deprecated and will be removed in a future version, use `padding=True` or `padding='longest'` to pad to the longest sequence in the batch, or use `padding='max_length'` to pad to a max length. In this case, you can give a specific length with `max_length` (e.g. `max_length=45`) or leave max_length to None to pad to the maximal input size of the model (e.g. 512 for Bert).\n",
      "  warnings.warn(\n"
     ]
    },
    {
     "name": "stdout",
     "output_type": "stream",
     "text": [
      "accuracy 0.8053144851033373\n",
      "precision micro 0.8109208071900966\n",
      "precision macro 0.7303591209596036\n",
      "recall micro 0.9243258915627718\n",
      "recall macro 0.8213383401397664\n",
      "f1 micro 0.8639176188970688\n",
      "f1 macro 0.7709461596248627\n",
      "roc_auc micro 0.9425032437625196\n",
      "roc_auc macro 0.8844052238242974\n"
     ]
    }
   ],
   "source": [
    "test_op,test_target, test_loss = validation(\n",
    "  model,\n",
    "  testing_loader,\n",
    "  device,\n",
    ")\n",
    "\n",
    "test_op = np.array(test_op) >= 0.5\n",
    "test_accuracy = metrics.accuracy_score(test_target, test_op)\n",
    "test_precision_score_micro = metrics.precision_score(test_target, test_op, average='micro')\n",
    "test_precision_score_macro = metrics.precision_score(test_target, test_op, average='macro')\n",
    "test_recall_score_micro = metrics.recall_score(test_target, test_op, average='micro')\n",
    "test_recall_score_macro = metrics.recall_score(test_target, test_op, average='macro')\n",
    "test_f1_score_micro = metrics.f1_score(test_target, test_op, average='micro')\n",
    "test_f1_score_macro = metrics.f1_score(test_target, test_op, average='macro')\n",
    "test_roc_auc_score_micro = metrics.roc_auc_score(test_target, test_op, average='micro')\n",
    "test_roc_auc_score_macro = metrics.roc_auc_score(test_target, test_op, average='macro')\n",
    "\n",
    "print('accuracy',test_accuracy)\n",
    "print('precision micro',test_precision_score_micro)\n",
    "print('precision macro',test_precision_score_macro)\n",
    "print('recall micro',test_recall_score_micro)\n",
    "print('recall macro',test_recall_score_macro)\n",
    "print('f1 micro',test_f1_score_micro)\n",
    "print('f1 macro',test_f1_score_macro)\n",
    "print('roc_auc micro',test_roc_auc_score_micro)\n",
    "print('roc_auc macro',test_roc_auc_score_macro)\n",
    "\n"
   ]
  },
  {
   "cell_type": "code",
   "execution_count": 23,
   "metadata": {},
   "outputs": [
    {
     "name": "stderr",
     "output_type": "stream",
     "text": [
      "/usr/local/lib/python3.9/dist-packages/transformers/tokenization_utils_base.py:2323: FutureWarning: The `pad_to_max_length` argument is deprecated and will be removed in a future version, use `padding=True` or `padding='longest'` to pad to the longest sequence in the batch, or use `padding='max_length'` to pad to a max length. In this case, you can give a specific length with `max_length` (e.g. `max_length=45`) or leave max_length to None to pad to the maximal input size of the model (e.g. 512 for Bert).\n",
      "  warnings.warn(\n"
     ]
    },
    {
     "data": {
      "text/plain": [
       "array([[ True, False, False,  True, False, False],\n",
       "       [ True, False, False,  True, False, False],\n",
       "       [ True, False, False,  True, False, False],\n",
       "       ...,\n",
       "       [False, False, False, False, False, False],\n",
       "       [ True, False, False,  True, False, False],\n",
       "       [False, False, False, False, False, False]])"
      ]
     },
     "execution_count": 23,
     "metadata": {},
     "output_type": "execute_result"
    }
   ],
   "source": [
    "y_pred, y_true,loss = validation(\n",
    "  model,\n",
    "  testing_loader,device\n",
    ")\n",
    "y_pred = np.array(y_pred) >= 0.5\n",
    "y_pred"
   ]
  },
  {
   "cell_type": "code",
   "execution_count": 24,
   "metadata": {},
   "outputs": [
    {
     "name": "stdout",
     "output_type": "stream",
     "text": [
      "              precision    recall  f1-score   support\n",
      "\n",
      "           0       0.84      0.96      0.90      5242\n",
      "           1       0.79      0.75      0.77       394\n",
      "           2       0.64      0.68      0.66       197\n",
      "           3       0.81      0.93      0.87      3907\n",
      "           4       0.60      0.83      0.70       445\n",
      "           5       0.70      0.78      0.74       162\n",
      "\n",
      "   micro avg       0.81      0.92      0.86     10347\n",
      "   macro avg       0.73      0.82      0.77     10347\n",
      "weighted avg       0.81      0.92      0.86     10347\n",
      " samples avg       0.43      0.44      0.43     10347\n",
      "\n"
     ]
    },
    {
     "name": "stderr",
     "output_type": "stream",
     "text": [
      "/usr/local/lib/python3.9/dist-packages/sklearn/metrics/_classification.py:1334: UndefinedMetricWarning: Precision and F-score are ill-defined and being set to 0.0 in samples with no predicted labels. Use `zero_division` parameter to control this behavior.\n",
      "  _warn_prf(average, modifier, msg_start, len(result))\n",
      "/usr/local/lib/python3.9/dist-packages/sklearn/metrics/_classification.py:1334: UndefinedMetricWarning: Recall and F-score are ill-defined and being set to 0.0 in samples with no true labels. Use `zero_division` parameter to control this behavior.\n",
      "  _warn_prf(average, modifier, msg_start, len(result))\n"
     ]
    }
   ],
   "source": [
    "from sklearn.metrics import classification_report,confusion_matrix\n",
    "print(classification_report(y_true, y_pred))"
   ]
  },
  {
   "cell_type": "code",
   "execution_count": 25,
   "metadata": {},
   "outputs": [
    {
     "data": {
      "text/plain": [
       "array([[11032,     0,     0,     1,     1,     7],\n",
       "       [   13,     0,     0,     0,     0,     0],\n",
       "       [    6,     0,     0,     0,     0,     0],\n",
       "       [   74,     0,     0,     0,     0,     0],\n",
       "       [   30,     0,     0,     0,     0,     0],\n",
       "       [   10,     0,     0,     0,     0,     3]])"
      ]
     },
     "execution_count": 25,
     "metadata": {},
     "output_type": "execute_result"
    }
   ],
   "source": [
    "#from sklearn.metrics import multilabel_confusion_matrix\n",
    "confusion_matrix(np.array(y_true).argmax(axis=1),np.array(y_pred).argmax(axis=1))"
   ]
  },
  {
   "cell_type": "code",
   "execution_count": 26,
   "metadata": {},
   "outputs": [
    {
     "data": {
      "image/png": "[encoded data removed]",
      "text/plain": [
       "<Figure size 640x480 with 2 Axes>"
      ]
     },
     "metadata": {},
     "output_type": "display_data"
    }
   ],
   "source": [
    "import seaborn as sns\n",
    "class_name = ['toxic','obscene','threat','insult','identity_hate','sexual_explicit']\n",
    "def show_confusion_matrix(confusion_matrix):\n",
    "  hmap = sns.heatmap(confusion_matrix, annot=True, fmt=\"d\", cmap=\"Blues\")\n",
    "  hmap.yaxis.set_ticklabels(hmap.yaxis.get_ticklabels(), rotation=0, ha='right')\n",
    "  hmap.xaxis.set_ticklabels(hmap.xaxis.get_ticklabels(), rotation=30, ha='right')\n",
    "  plt.ylabel('True sentiment')\n",
    "  plt.xlabel('Predicted sentiment');\n",
    "cm = confusion_matrix(np.array(y_true).argmax(axis=1),np.array(y_pred).argmax(axis=1))\n",
    "df_cm = pd.DataFrame(cm, index=class_name, columns=class_name)\n",
    "show_confusion_matrix(df_cm)"
   ]
  },
  {
   "cell_type": "code",
   "execution_count": 27,
   "metadata": {},
   "outputs": [],
   "source": [
    "#Prediction"
   ]
  },
  {
   "cell_type": "code",
   "execution_count": 28,
   "metadata": {},
   "outputs": [
    {
     "name": "stdout",
     "output_type": "stream",
     "text": [
      "Review text: You are a fu**ing a**h**e\n",
      "Sentiment  : [tensor([ True,  True, False,  True, False, False])]\n"
     ]
    },
    {
     "name": "stderr",
     "output_type": "stream",
     "text": [
      "/usr/local/lib/python3.9/dist-packages/transformers/tokenization_utils_base.py:2323: FutureWarning: The `pad_to_max_length` argument is deprecated and will be removed in a future version, use `padding=True` or `padding='longest'` to pad to the longest sequence in the batch, or use `padding='max_length'` to pad to a max length. In this case, you can give a specific length with `max_length` (e.g. `max_length=45`) or leave max_length to None to pad to the maximal input size of the model (e.g. 512 for Bert).\n",
      "  warnings.warn(\n"
     ]
    },
    {
     "data": {
      "text/plain": [
       "{'toxic': tensor(True),\n",
       " 'obscene': tensor(True),\n",
       " 'threat': tensor(False),\n",
       " 'insult': tensor(True),\n",
       " 'identity_hate': tensor(False),\n",
       " 'sexual_explicit': tensor(False)}"
      ]
     },
     "execution_count": 28,
     "metadata": {},
     "output_type": "execute_result"
    }
   ],
   "source": [
    "class_name = ['toxic','obscene','threat','insult','identity_hate','sexual_explicit']\n",
    "\n",
    "review_text = \"You are a fu**ing a**h**e\"\n",
    "\n",
    "encoded_review = tokenizer.encode_plus(\n",
    "  review_text,\n",
    "  max_length=100,\n",
    "  add_special_tokens=True,\n",
    "  return_token_type_ids=True,\n",
    "  pad_to_max_length=True,\n",
    "  return_attention_mask=True,\n",
    "  return_tensors='pt',\n",
    ")\n",
    "\n",
    "def sigmoid(x):\n",
    "    return 1 / (1 + np.exp(-x))\n",
    "\n",
    "input_ids = encoded_review['input_ids'].to(device)\n",
    "attention_mask = encoded_review['attention_mask'].to(device)\n",
    "token_type_ids = encoded_review['token_type_ids'].to(device)\n",
    "output = model(input_ids, attention_mask,token_type_ids)\n",
    "output = sigmoid(output.cpu().detach())>0.5\n",
    "output = list(output)\n",
    "\n",
    "print(f'Review text: {review_text}')\n",
    "print(f'Sentiment  : {output}')\n",
    "\n",
    "op = {\n",
    "    'toxic':output[0][0],\n",
    "    #'severe_toxic':output[0][1],\n",
    "    'obscene':output[0][1],\n",
    "    'threat':output[0][2],\n",
    "    'insult':output[0][3],\n",
    "    'identity_hate':output[0][4],\n",
    "    'sexual_explicit':output[0][5]\n",
    "}\n",
    "op"
   ]
  },
  {
   "cell_type": "markdown",
   "metadata": {
    "id": "XJhQvyorLcd7"
   },
   "source": [
    "<a id='section07'></a>\n",
    "### Saving the Trained Model Artifacts for inference\n",
    "\n",
    "This is the final step in the process of fine tuning the model.\n",
    "\n",
    "The model and its vocabulary are saved locally. These files are then used in the future to make inference on new inputs of news headlines.\n",
    "\n",
    "Please remember that a trained neural network is only useful when used in actual inference after its training.\n",
    "\n",
    "In the lifecycle of an ML projects this is only half the job done. We will leave the inference of these models for some other day."
   ]
  }
 ],
 "metadata": {
  "accelerator": "GPU",
  "colab": {
   "gpuType": "T4",
   "provenance": []
  },
  "kaggle": {
   "accelerator": "gpu",
   "dataSources": [
    {
     "datasetId": 4458800,
     "sourceId": 7648885,
     "sourceType": "datasetVersion"
    }
   ],
   "dockerImageVersionId": 30648,
   "isGpuEnabled": true,
   "isInternetEnabled": true,
   "language": "python",
   "sourceType": "notebook"
  },
  "kernelspec": {
   "display_name": "Python 3 (ipykernel)",
   "language": "python",
   "name": "python3"
  },
  "language_info": {
   "codemirror_mode": {
    "name": "ipython",
    "version": 3
   },
   "file_extension": ".py",
   "mimetype": "text/x-python",
   "name": "python",
   "nbconvert_exporter": "python",
   "pygments_lexer": "ipython3",
   "version": "3.9.16"
  }
 },
 "nbformat": 4,
 "nbformat_minor": 4
}
