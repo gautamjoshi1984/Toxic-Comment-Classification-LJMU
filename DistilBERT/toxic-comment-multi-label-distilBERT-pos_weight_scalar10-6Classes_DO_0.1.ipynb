{
 "cells": [
  {
   "cell_type": "markdown",
   "metadata": {
    "id": "trCjtGETLcd3"
   },
   "source": [
    "# Fine Tuning RoBERTa for Toxic Comment Classification (Multi label Text Classification)\n",
    "\n",
    "## Parameters\n",
    "### Batch size 32\n",
    "### Learning Rate - 1e-5\n",
    "### Loss Function - BCEWithLogitsLoss\n",
    "### POS_weight\n",
    "### Remove severe_toxicity\n",
    "### Dropout 0.4\n",
    "\n"
   ]
  },
  {
   "cell_type": "markdown",
   "metadata": {
    "id": "pLMjlGk4Lcd4"
   },
   "source": [
    "<a id='section01'></a>\n",
    "### Importing Python Libraries and preparing the environment\n",
    "\n",
    "At this step we will be importing the libraries and modules needed to run our script. Libraries are:\n",
    "* Pandas\n",
    "* Pytorch\n",
    "* Pytorch Utils for Dataset and Dataloader\n",
    "* Transformers\n",
    "* BERT Model and Tokenizer\n",
    "\n",
    "Followed by that we will preapre the device for GPU execeution. This configuration is needed if you want to leverage on onboard GPU.\n",
    "\n",
    "*I have included the code for TPU configuration, but commented it out. If you plan to use the TPU, please comment the GPU execution codes and uncomment the TPU ones to install the packages and define the device.*"
   ]
  },
  {
   "cell_type": "code",
   "execution_count": 49,
   "metadata": {},
   "outputs": [],
   "source": [
    "#Run this before a fresh training to clear the ouput folder, dont run this if you want to continue from previous training\n",
    "#!rm -rf /kaggle/input/previous-model/checkpoint_2.pth\n",
    "#!rm -rf /kaggle/working/*"
   ]
  },
  {
   "cell_type": "code",
   "execution_count": 50,
   "metadata": {
    "id": "WD_vnyLXZQzD"
   },
   "outputs": [],
   "source": [
    "# Installing the transformers library and additional libraries if looking process\n",
    "\n",
    "#!pip install upgrade transformers\n",
    "#!pip install torch\n",
    "\n",
    "#Code for TPU packages install\n",
    "# !curl -q https://raw.githubusercontent.com/pytorch/xla/master/contrib/scripts/env-setup.py -o pytorch-xla-env-setup.py\n",
    "# !python pytorch-xla-env-setup.py --apt-packages libomp5 libopenblas-dev\n",
    "# !pip install torch==2.1.0"
   ]
  },
  {
   "cell_type": "code",
   "execution_count": 51,
   "metadata": {
    "id": "pzM1_ykHaFur"
   },
   "outputs": [],
   "source": [
    "# Importing stock ml libraries\n",
    "import os\n",
    "import numpy as np\n",
    "import pandas as pd\n",
    "from sklearn import metrics\n",
    "import transformers\n",
    "import torch\n",
    "from torch.utils.data import Dataset, DataLoader, RandomSampler, SequentialSampler\n",
    "from transformers import BertTokenizer, BertModel, BertConfig, DistilBertTokenizer, DistilBertModel\n",
    "from transformers import AutoTokenizer, AutoModelForSequenceClassification, AdamW, get_linear_schedule_with_warmup\n",
    "\n",
    "#Preparing for TPU usage\n",
    "# import torch_xla\n",
    "# import torch_xla.core.xla_model as xm\n",
    "# device = xm.xla_device()\n",
    "# device"
   ]
  },
  {
   "cell_type": "code",
   "execution_count": 52,
   "metadata": {
    "colab": {
     "base_uri": "https://localhost:8080/",
     "height": 35
    },
    "id": "NLxxwd1scQNv",
    "outputId": "759a237b-2e6e-4274-8b96-f116eeeaec05"
   },
   "outputs": [
    {
     "data": {
      "text/plain": [
       "'cuda'"
      ]
     },
     "execution_count": 52,
     "metadata": {},
     "output_type": "execute_result"
    }
   ],
   "source": [
    "# # Setting up the device for GPU usage\n",
    "\n",
    "from torch import cuda\n",
    "device = 'cuda' if cuda.is_available() else 'cpu'\n",
    "device"
   ]
  },
  {
   "cell_type": "markdown",
   "metadata": {
    "id": "BUVgr8fZLcd5"
   },
   "source": [
    "<a id='section02'></a>\n",
    "### Importing and Pre-Processing the domain data\n",
    "\n",
    "We will be working with the data and preparing for fine tuning purposes.\n",
    "*Assuming that the `train.csv` is already downloaded, unzipped and saved in your `data` folder*\n",
    "\n",
    "* Import the file in a dataframe and give it the headers as per the documentation.\n",
    "* Taking the values of all the categories and coverting it into a list.\n",
    "* The list is appened as a new column and other columns are removed"
   ]
  },
  {
   "cell_type": "code",
   "execution_count": 53,
   "metadata": {
    "colab": {
     "base_uri": "https://localhost:8080/"
    },
    "id": "vqJuC48MScQi",
    "outputId": "70e1dd46-006b-43ff-ea3e-f536d0cd2f6b"
   },
   "outputs": [
    {
     "name": "stdout",
     "output_type": "stream",
     "text": [
      "test.parquet  train.parquet  validation.parquet\n"
     ]
    }
   ],
   "source": [
    "# from google.colab import drive\n",
    "# drive.mount('/content/drive')\n",
    "!ls /datasets/sampled_dataset"
   ]
  },
  {
   "cell_type": "code",
   "execution_count": 54,
   "metadata": {
    "id": "mZ7lTlkyaG7u"
   },
   "outputs": [],
   "source": [
    "# df1_train = pd.read_parquet(\"/content/drive/MyDrive/TCC_Data/train-00000-of-00002.parquet\")\n",
    "# df2_train = pd.read_parquet(\"/content/drive/MyDrive/TCC_Data/train-00001-of-00002.parquet\")\n",
    "# df_validation = pd.read_parquet(\"/content/drive/MyDrive/TCC_Data/validation-00000-of-00001.parquet\")\n",
    "# df_test = pd.read_parquet(\"/content/drive/MyDrive/TCC_Data/test-00000-of-00001.parquet\")\n",
    "\n",
    "#Get data from dektop\n",
    "# df1_train = pd.read_parquet(r\"C:\\Users\\gauta\\Documents\\LJMU Masters\\Toxicity\\Experiments\\Data\\train-00000-of-00002.parquet\")\n",
    "# df2_train = pd.read_parquet(r\"C:\\Users\\gauta\\Documents\\LJMU Masters\\Toxicity\\Experiments\\Data\\train-00001-of-00002.parquet\")\n",
    "# df_validation = pd.read_parquet(r\"C:\\Users\\gauta\\Documents\\LJMU Masters\\Toxicity\\Experiments\\Data\\validation-00000-of-00001.parquet\")\n",
    "# df_test = pd.read_parquet(r\"C:\\Users\\gauta\\Documents\\LJMU Masters\\Toxicity\\Experiments\\Data\\test-00000-of-00001.parquet\")\n",
    "\n",
    "#Get data from dektop\n",
    "df_train = pd.read_parquet(r\"/datasets/sampled_dataset/train.parquet\")\n",
    "#df2_train = pd.read_parquet(r\"/datasets/toxic_comments_dataset/train-00001-of-00002.parquet\")\n",
    "df_validation = pd.read_parquet(r\"/datasets/sampled_dataset/validation.parquet\")\n",
    "df_test = pd.read_parquet(r\"/datasets/sampled_dataset/test.parquet\")\n",
    "\n",
    "# def conv_probs_to_labels(df):\n",
    "#   df['toxicity'] = df['toxicity'].apply(lambda x: 0 if x <0.5 else 1)\n",
    "#   df['severe_toxicity'] = df['severe_toxicity'].apply(lambda x: 0 if x <0.2 else 1)\n",
    "#   df['obscene'] = df['obscene'].apply(lambda x: 0 if x <0.5 else 1)\n",
    "#   df['threat'] = df['threat'].apply(lambda x: 0 if x <0.5 else 1)\n",
    "#   df['insult'] = df['insult'].apply(lambda x: 0 if x <0.5 else 1)\n",
    "#   df['identity_attack'] = df['identity_attack'].apply(lambda x: 0 if x <0.5 else 1)\n",
    "#   df['sexual_explicit'] = df['sexual_explicit'].apply(lambda x: 0 if x <0.5 else 1)\n",
    "#   return df\n",
    "\n",
    "# df1_train = conv_probs_to_labels(df1_train)\n",
    "# df2_train = conv_probs_to_labels(df2_train)\n",
    "# df_validation = conv_probs_to_labels(df_validation).reset_index()\n",
    "# df_test = conv_probs_to_labels(df_test).reset_index()\n",
    "\n",
    "#df_train = pd.concat([df1_train,df2_train],axis=0).reset_index()\n",
    "# df_train['list'] = df_train[df_train.columns[1:]].values.tolist()\n",
    "# df_test['list'] = df_test[df_test.columns[1:]].values.tolist()\n",
    "# df_validation['list'] = df_validation[df_validation.columns[1:]].values.tolist()\n",
    "# df_train = df_train[['text', 'list']].copy().reset_index()\n",
    "# df_test = df_test[['text', 'list']].copy().reset_index()\n",
    "# df_validation = df_validation[['text', 'list']].copy().reset_index()\n",
    "# df_train = df_train.head(1000)\n",
    "# df_test = df_test.head(200)\n",
    "# df_validation = df_validation.head(200)"
   ]
  },
  {
   "cell_type": "code",
   "execution_count": 55,
   "metadata": {},
   "outputs": [
    {
     "name": "stdout",
     "output_type": "stream",
     "text": [
      "96796\n",
      "6582\n",
      "3778\n",
      "71258\n",
      "8674\n",
      "3262\n"
     ]
    }
   ],
   "source": [
    "print(df_train.toxicity.sum())\n",
    "#print(df_train.severe_toxicity.sum())\n",
    "print(df_train.obscene.sum())\n",
    "print(df_train.threat.sum())\n",
    "print(df_train.insult.sum())\n",
    "print(df_train.identity_attack.sum())\n",
    "print(df_train.sexual_explicit.sum())"
   ]
  },
  {
   "cell_type": "code",
   "execution_count": 56,
   "metadata": {},
   "outputs": [
    {
     "data": {
      "text/plain": [
       "133.99267619278277"
      ]
     },
     "execution_count": 56,
     "metadata": {},
     "output_type": "execute_result"
    }
   ],
   "source": [
    "df_train.text.str.len().mean()"
   ]
  },
  {
   "cell_type": "code",
   "execution_count": 57,
   "metadata": {},
   "outputs": [],
   "source": [
    "target_cols = ['toxicity','obscene','threat','insult','identity_attack','sexual_explicit']\n",
    "df_train[target_cols].values\n",
    "df_train = df_train[['text'] + target_cols].reset_index()\n",
    "df_test = df_test[['text'] + target_cols].reset_index()\n",
    "df_validation = df_validation[['text'] + target_cols].reset_index()"
   ]
  },
  {
   "cell_type": "markdown",
   "metadata": {
    "id": "uJmGyKeYLcd6"
   },
   "source": [
    "<a id='section03'></a>\n",
    "### Preparing the Dataset and Dataloader\n",
    "\n",
    "We will start with defining few key variables that will be used later during the training/fine tuning stage.\n",
    "Followed by creation of CustomDataset class - This defines how the text is pre-processed before sending it to the neural network. We will also define the Dataloader that will feed  the data in batches to the neural network for suitable training and processing.\n",
    "Dataset and Dataloader are constructs of the PyTorch library for defining and controlling the data pre-processing and its passage to neural network. For further reading into Dataset and Dataloader read the [docs at PyTorch](https://pytorch.org/docs/stable/data.html)\n",
    "\n",
    "#### *CustomDataset* Dataset Class\n",
    "- This class is defined to accept the `tokenizer`, `dataframe` and `max_length` as input and generate tokenized output and tags that is used by the BERT model for training.\n",
    "- We are using the BERT tokenizer to tokenize the data in the `comment_text` column of the dataframe.\n",
    "- The tokenizer uses the `encode_plus` method to perform tokenization and generate the necessary outputs, namely: `ids`, `attention_mask`, `token_type_ids`\n",
    "---\n",
    "- *This is the first difference between the distilbert and bert, where the tokenizer generates the token_type_ids in case of Bert*\n",
    "---\n",
    "- To read further into the tokenizer, [refer to this document](https://huggingface.co/transformers/model_doc/bert.html#berttokenizer)\n",
    "- `targest` is the list of categories labled as `0` or `1` in the dataframe.\n",
    "- The *CustomDataset* class is used to create 2 datasets, for training and for validation.\n",
    "- *Training Dataset* is used to fine tune the model: **80% of the original data**\n",
    "- *Validation Dataset* is used to evaluate the performance of the model. The model has not seen this data during training.\n",
    "\n",
    "#### Dataloader\n",
    "- Dataloader is used to for creating training and validation dataloader that load data to the neural network in a defined manner. This is needed because all the data from the dataset cannot be loaded to the memory at once, hence the amount of dataloaded to the memory and then passed to the neural network needs to be controlled.\n",
    "- This control is achieved using the parameters such as `batch_size` and `max_len`.\n",
    "- Training and Validation dataloaders are used in the training and validation part of the flow respectively"
   ]
  },
  {
   "cell_type": "code",
   "execution_count": 58,
   "metadata": {
    "id": "ikfbFlNHgi8T"
   },
   "outputs": [],
   "source": [
    "# Sections of config\n",
    "\n",
    "# Defining some key variables that will be used later on in the training\n",
    "#from transformers import BertTokenizer\n",
    "MAX_LEN = 300\n",
    "TRAIN_BATCH_SIZE = 32\n",
    "VALID_BATCH_SIZE = 32\n",
    "TEST_BATCH_SIZE = 32\n",
    "EPOCHS = 4\n",
    "LEARNING_RATE = 1e-05\n",
    "tokenizer = DistilBertTokenizer.from_pretrained('distilbert-base-uncased')\n",
    "# model_path = '/kaggle/working/checkpoint.pth'\n",
    "# model_path5 = '/kaggle/working/checkpoint_5.pth'\n",
    "# model_path4 = '/kaggle/working/checkpoint_4.pth'\n",
    "# model_path3 = '/kaggle/working/checkpoint_3.pth'\n",
    "# model_path2 = '/kaggle/working/checkpoint_2.pth'\n",
    "# model_path1 = '/kaggle/working/checkpoint_1.pth'\n",
    "#tokenizer = AutoTokenizer.from_pretrained(\"facebook/roberta-hate-speech-dynabench-r4-target\")"
   ]
  },
  {
   "cell_type": "code",
   "execution_count": 59,
   "metadata": {
    "id": "oFOylAXqiNYK"
   },
   "outputs": [],
   "source": [
    "class CustomDataset(Dataset):\n",
    "\n",
    "    def __init__(self, dataframe, tokenizer, max_len):\n",
    "        self.tokenizer = tokenizer\n",
    "        self.data = dataframe\n",
    "        self.text = dataframe.text\n",
    "        self.targets = dataframe[target_cols].values\n",
    "        self.max_len = max_len\n",
    "\n",
    "    def __len__(self):\n",
    "        return len(self.text)\n",
    "\n",
    "    def __getitem__(self, index):\n",
    "        text = str(self.text[index])\n",
    "        text = \" \".join(text.split())\n",
    "\n",
    "        inputs = self.tokenizer.encode_plus(\n",
    "            text,\n",
    "            None,\n",
    "            add_special_tokens=True,\n",
    "            max_length=self.max_len,\n",
    "            pad_to_max_length=True,\n",
    "            #padding='max_length',\n",
    "            return_token_type_ids=True\n",
    "        )\n",
    "        ids = inputs['input_ids']\n",
    "        mask = inputs['attention_mask']\n",
    "        token_type_ids = inputs[\"token_type_ids\"]\n",
    "\n",
    "\n",
    "        return {\n",
    "            'ids': torch.tensor(ids, dtype=torch.long),\n",
    "            'mask': torch.tensor(mask, dtype=torch.long),\n",
    "            'token_type_ids': torch.tensor(token_type_ids, dtype=torch.long),\n",
    "            'targets': torch.tensor(self.targets[index], dtype=torch.float)\n",
    "        }"
   ]
  },
  {
   "cell_type": "code",
   "execution_count": 60,
   "metadata": {
    "id": "PkDGqarcPowL"
   },
   "outputs": [],
   "source": [
    "# Creating the dataset and dataloader for the neural network\n",
    "\n",
    "#train_size = 0.8\n",
    "train_dataset=df_train\n",
    "test_dataset=df_test\n",
    "validation_dataset=df_validation.reset_index(drop = True)\n",
    "train_dataset = train_dataset.reset_index(drop=True)\n",
    "\n",
    "\n",
    "# print(\"FULL Dataset: {}\".format(new_df.shape))\n",
    "# print(\"TRAIN Dataset: {}\".format(train_dataset.shape))\n",
    "# print(\"TEST Dataset: {}\".format(test_dataset.shape))\n",
    "\n",
    "training_set = CustomDataset(train_dataset, tokenizer, MAX_LEN)\n",
    "testing_set = CustomDataset(test_dataset, tokenizer, MAX_LEN)\n",
    "validation_set = CustomDataset(validation_dataset,tokenizer,MAX_LEN)"
   ]
  },
  {
   "cell_type": "code",
   "execution_count": 61,
   "metadata": {
    "id": "vLpilV73QrXJ"
   },
   "outputs": [],
   "source": [
    "train_params = {'batch_size': TRAIN_BATCH_SIZE,\n",
    "                'shuffle': True,\n",
    "                'num_workers': 0\n",
    "                }\n",
    "\n",
    "test_params = {'batch_size': TEST_BATCH_SIZE,\n",
    "                'shuffle': True,\n",
    "                'num_workers': 0\n",
    "                }\n",
    "\n",
    "validation_params = {'batch_size': VALID_BATCH_SIZE,\n",
    "                'shuffle': True,\n",
    "                'num_workers': 0\n",
    "                }\n",
    "\n",
    "training_loader = DataLoader(training_set, **train_params)\n",
    "testing_loader = DataLoader(testing_set, **test_params)\n",
    "validation_loader = DataLoader(validation_set, **validation_params)"
   ]
  },
  {
   "cell_type": "markdown",
   "metadata": {
    "id": "I0ahyENXLcd6"
   },
   "source": [
    "<a id='section04'></a>\n",
    "### Creating the Neural Network for Fine Tuning\n",
    "\n",
    "#### Neural Network\n",
    " - We will be creating a neural network with the `BERTClass`.\n",
    " - This network will have the `Bert` model.  Follwed by a `Droput` and `Linear Layer`. They are added for the purpose of **Regulariaztion** and **Classification** respectively.\n",
    " - In the forward loop, there are 2 output from the `BertModel` layer.\n",
    " - The second output `output_1` or called the `pooled output` is passed to the `Drop Out layer` and the subsequent output is given to the `Linear layer`.\n",
    " - Keep note the number of dimensions for `Linear Layer` is **6** because that is the total number of categories in which we are looking to classify our model.\n",
    " - The data will be fed to the `BertClass` as defined in the dataset.\n",
    " - Final layer outputs is what will be used to calcuate the loss and to determine the accuracy of models prediction.\n",
    " - We will initiate an instance of the network called `model`. This instance will be used for training and then to save the final trained model for future inference.\n",
    "\n",
    "#### Loss Function and Optimizer\n",
    " - The Loss is defined in the next cell as `loss_fn`.\n",
    " - As defined above, the loss function used will be a combination of Binary Cross Entropy which is implemented as [BCELogits Loss](https://pytorch.org/docs/stable/nn.html#bcewithlogitsloss) in PyTorch\n",
    " - `Optimizer` is defined in the next cell.\n",
    " - `Optimizer` is used to update the weights of the neural network to improve its performance.\n",
    "\n",
    "#### Further Reading\n",
    "- You can refer to my [Pytorch Tutorials](https://github.com/abhimishra91/pytorch-tutorials) to get an intuition of Loss Function and Optimizer.\n",
    "- [Pytorch Documentation for Loss Function](https://pytorch.org/docs/stable/nn.html#loss-functions)\n",
    "- [Pytorch Documentation for Optimizer](https://pytorch.org/docs/stable/optim.html)\n",
    "- Refer to the links provided on the top of the notebook to read more about `BertModel`."
   ]
  },
  {
   "cell_type": "code",
   "execution_count": 62,
   "metadata": {},
   "outputs": [],
   "source": [
    "#Handle class Imbalance with pos_weights\n",
    "# weight_for_class_i = total_samples / (num_samples_in_class_i * num_classes)\n",
    "# num_classes = 7\n",
    "# weights = [len(df_train[i])/(df_train[i].sum() *num_classes) for i in target_cols]\n",
    "# weights = torch.tensor(weights,device = device)\n",
    "# print(weights)\n",
    "\n",
    "# weights = torch.tensor([0.3,15,5,5,0.5,3.5,10],device = device)\n",
    "# print(weights)\n",
    "weights  = torch.tensor(10, device = device)"
   ]
  },
  {
   "cell_type": "code",
   "execution_count": 63,
   "metadata": {
    "colab": {
     "base_uri": "https://localhost:8080/"
    },
    "id": "DegHNyIEQxB2",
    "outputId": "27dde972-8f93-4208-a3bf-6f47606eab6f"
   },
   "outputs": [
    {
     "name": "stderr",
     "output_type": "stream",
     "text": [
      "Some weights of the model checkpoint at distilbert-base-uncased were not used when initializing DistilBertModel: ['vocab_layer_norm.weight', 'vocab_projector.weight', 'vocab_transform.weight', 'vocab_projector.bias', 'vocab_layer_norm.bias', 'vocab_transform.bias']\n",
      "- This IS expected if you are initializing DistilBertModel from the checkpoint of a model trained on another task or with another architecture (e.g. initializing a BertForSequenceClassification model from a BertForPreTraining model).\n",
      "- This IS NOT expected if you are initializing DistilBertModel from the checkpoint of a model that you expect to be exactly identical (initializing a BertForSequenceClassification model from a BertForSequenceClassification model).\n"
     ]
    },
    {
     "name": "stdout",
     "output_type": "stream",
     "text": [
      "No checkpoint found, starting from scratch.\n"
     ]
    }
   ],
   "source": [
    "# Creating the customized model, by adding a drop out and a dense layer on top of distil bert to get the final output for the model.\n",
    "\n",
    "class BERTClass(torch.nn.Module):\n",
    "    def __init__(self):\n",
    "        super(BERTClass, self).__init__()\n",
    "        self.l1 = transformers.DistilBertModel.from_pretrained('distilbert-base-uncased')\n",
    "        #self.l1 = AutoModelForSequenceClassification.from_pretrained(\"facebook/roberta-hate-speech-dynabench-r4-target\")\n",
    "        self.l2 = torch.nn.Dropout(0.1)\n",
    "        self.l3 = torch.nn.Linear(768, 6)\n",
    "\n",
    "    #def forward(self, ids, mask, token_type_ids):\n",
    "    def forward(self, ids, mask):\n",
    "        output_1= self.l1(ids, attention_mask = mask, return_dict=True)\n",
    "        #output_1= self.l1(ids, attention_mask = mask, return_dict=False)\n",
    "        output_2 = self.l2(output_1.last_hidden_state[:, 0])\n",
    "        output = self.l3(output_2)\n",
    "        #logits = self.fc(output)\n",
    "        return output\n",
    "    \n",
    "def loss_fn(outputs, targets, weights):\n",
    "    loss_func = torch.nn.BCEWithLogitsLoss(pos_weight = weights) #pos_weight scalar\n",
    "    return loss_func(outputs, targets)\n",
    "    \n",
    "device = torch.device(\"cuda\" if torch.cuda.is_available() else \"cpu\")\n",
    "model = BERTClass()\n",
    "optimizer = torch.optim.AdamW(params =  model.parameters(), lr=LEARNING_RATE)\n",
    "total_steps = len(training_loader) * EPOCHS\n",
    "scheduler = get_linear_schedule_with_warmup(optimizer, num_warmup_steps=0, num_training_steps=total_steps)\n",
    "model.to(device)\n",
    "\n",
    "start_epoch = 0\n",
    "previous_checkpoint = '/kaggle/input/previous-model-checkpoint/checkpoint.pth'\n",
    "if os.path.exists(previous_checkpoint):\n",
    "    checkpoint = torch.load(previous_checkpoint)\n",
    "    model.load_state_dict(checkpoint['model_state_dict'])\n",
    "    optimizer.load_state_dict(checkpoint['optimizer_state_dict'])\n",
    "    epoch = checkpoint['epoch']\n",
    "    start_epoch = epoch+1\n",
    "    print(f\"Loaded checkpoint from epoch {epoch}\")\n",
    "else:\n",
    "    print(\"No checkpoint found, starting from scratch.\")\n",
    "    #model = BERTClassifier(bert_model_name, num_classes)\n",
    "    #model = BERTClass()\n",
    "\n",
    "# for name, param in model.named_parameters():\n",
    "#     if name.startswith('bert.encoder.layer.1'):\n",
    "#         param.requires_grad = False\n",
    "#     if name.startswith('bert.encoder.layer.2'):\n",
    "#         param.requires_grad = False\n",
    "#     if name.startswith('bert.encoder.layer.3'):\n",
    "#         param.requires_grad = False\n",
    "#     if name.startswith('bert.encoder.layer.4'):\n",
    "#         param.requires_grad = False\n",
    "#     if name.startswith('bert.encoder.layer.5'):\n",
    "#         param.requires_grad = False\n",
    "#     if name.startswith('bert.encoder.layer.6'):\n",
    "#         param.requires_grad = False\n",
    "#     if name.startswith('bert.encoder.layer.7'):\n",
    "#         param.requires_grad = False\n",
    "#     if name.startswith('bert.encoder.layer.8'):\n",
    "#         param.requires_grad = False\n",
    "#     if name.startswith('bert.encoder.layer.9'):\n",
    "#         param.requires_grad = False"
   ]
  },
  {
   "cell_type": "markdown",
   "metadata": {
    "id": "FnGfDWA3Lcd7"
   },
   "source": [
    "<a id='section05'></a>\n",
    "### Fine Tuning the Model\n",
    "\n",
    "After all the effort of loading and preparing the data and datasets, creating the model and defining its loss and optimizer. This is probably the easier steps in the process.\n",
    "\n",
    "Here we define a training function that trains the model on the training dataset created above, specified number of times (EPOCH), An epoch defines how many times the complete data will be passed through the network.\n",
    "\n",
    "Following events happen in this function to fine tune the neural network:\n",
    "- The dataloader passes data to the model based on the batch size.\n",
    "- Subsequent output from the model and the actual category are compared to calculate the loss.\n",
    "- Loss value is used to optimize the weights of the neurons in the network.\n",
    "- After every 5000 steps the loss value is printed in the console.\n",
    "\n",
    "As you can see just in 1 epoch by the final step the model was working with a miniscule loss of 0.022 i.e. the network output is extremely close to the actual output."
   ]
  },
  {
   "cell_type": "code",
   "execution_count": 64,
   "metadata": {
    "id": "B9_DjWmfWx1q"
   },
   "outputs": [],
   "source": [
    "def train(epoch,batch_size,weights):\n",
    "    model.train()\n",
    "\n",
    "    total_loss, total_accuracy = 0, 0\n",
    "\n",
    "    total = len(training_loader)\n",
    "    \n",
    "    fin_targets=[]\n",
    "    fin_outputs=[]\n",
    "\n",
    "    for _,data in enumerate(training_loader, 0):\n",
    "\n",
    "        step = _+1\n",
    "        percent = \"{0:.10f}\".format(100 * (step / float(total)))\n",
    "        lossp = \"{0:.10f}\".format(total_loss/(total*batch_size))\n",
    "        filledLength = int(100 * step // total)\n",
    "        bar = '█' * filledLength + '>'  *(filledLength < 100) + '.' * (99 - filledLength)\n",
    "        print(f'\\rBatch {step}/{total} |{bar}| {percent}% complete, loss={lossp}, accuracy={total_accuracy}', end='')\n",
    "\n",
    "\n",
    "        ids = data['ids'].to(device, dtype = torch.long)\n",
    "        mask = data['mask'].to(device, dtype = torch.long)\n",
    "        token_type_ids = data['token_type_ids'].to(device, dtype = torch.long)\n",
    "        targets = data['targets'].to(device, dtype = torch.float)\n",
    "\n",
    "        #outputs = model(ids, mask, token_type_ids)\n",
    "        outputs = model(ids, mask)\n",
    "\n",
    "        optimizer.zero_grad()\n",
    "        loss = loss_fn(outputs, targets,weights)\n",
    "        if _%5000==0:\n",
    "            print(f'Epoch: {epoch}, Loss:  {loss.item()}')\n",
    "        \n",
    "        fin_targets.extend(targets.cpu().detach().numpy().tolist())\n",
    "        fin_outputs.extend(torch.sigmoid(outputs).cpu().detach().numpy().tolist())\n",
    "        \n",
    "\n",
    "        optimizer.zero_grad()\n",
    "        loss.backward()\n",
    "        optimizer.step()\n",
    "    return fin_outputs, fin_targets, loss"
   ]
  },
  {
   "cell_type": "code",
   "execution_count": 65,
   "metadata": {
    "colab": {
     "base_uri": "https://localhost:8080/"
    },
    "id": "D4Yl7gXHYSRU",
    "outputId": "ad9a3a25-cc7d-4182-87a3-3ceba1f28a80"
   },
   "outputs": [],
   "source": [
    "# for epoch in range(EPOCHS):\n",
    "#     print('Epoch',epoch+1,'of',EPOCHS)\n",
    "#     train(epoch,8)"
   ]
  },
  {
   "cell_type": "markdown",
   "metadata": {
    "id": "NimXh4bwLcd7"
   },
   "source": [
    "<a id='section06'></a>\n",
    "### Validating the Model\n",
    "\n",
    "During the validation stage we pass the unseen data(Testing Dataset) to the model. This step determines how good the model performs on the unseen data.\n",
    "\n",
    "This unseen data is the 20% of `train.csv` which was seperated during the Dataset creation stage.\n",
    "During the validation stage the weights of the model are not updated. Only the final output is compared to the actual value. This comparison is then used to calcuate the accuracy of the model.\n",
    "\n",
    "As defined above to get a measure of our models performance we are using the following metrics.\n",
    "- Accuracy Score\n",
    "- F1 Micro\n",
    "- F1 Macro\n",
    "\n",
    "We are getting amazing results for all these 3 categories just by training the model for 1 Epoch."
   ]
  },
  {
   "cell_type": "code",
   "execution_count": 66,
   "metadata": {
    "id": "nIEoUm4aQkyl"
   },
   "outputs": [],
   "source": [
    "def validation(model,data_loader,device,weights):\n",
    "    model.eval()\n",
    "    fin_targets=[]\n",
    "    fin_outputs=[]\n",
    "    with torch.no_grad():\n",
    "        for _, data in enumerate(data_loader, 0):\n",
    "            ids = data['ids'].to(device, dtype = torch.long)\n",
    "            mask = data['mask'].to(device, dtype = torch.long)\n",
    "            token_type_ids = data['token_type_ids'].to(device, dtype = torch.long)\n",
    "            targets = data['targets'].to(device, dtype = torch.float)\n",
    "            #outputs = model(ids, mask, token_type_ids)\n",
    "            outputs = model(ids, mask)\n",
    "            loss = loss_fn(outputs, targets,weights)\n",
    "            fin_targets.extend(targets.cpu().detach().numpy().tolist())\n",
    "            fin_outputs.extend(torch.sigmoid(outputs).cpu().detach().numpy().tolist())\n",
    "    return fin_outputs, fin_targets,loss"
   ]
  },
  {
   "cell_type": "code",
   "execution_count": 67,
   "metadata": {
    "id": "Ov1_3R_pAcMo"
   },
   "outputs": [
    {
     "name": "stderr",
     "output_type": "stream",
     "text": [
      "Truncation was not explicitly activated but `max_length` is provided a specific value, please use `truncation=True` to explicitly truncate examples to max length. Defaulting to 'longest_first' truncation strategy. If you encode pairs of sequences (GLUE-style) with the tokenizer you can select this strategy more precisely by providing a specific strategy to `truncation`.\n",
      "/usr/local/lib/python3.9/dist-packages/transformers/tokenization_utils_base.py:2323: FutureWarning: The `pad_to_max_length` argument is deprecated and will be removed in a future version, use `padding=True` or `padding='longest'` to pad to the longest sequence in the batch, or use `padding='max_length'` to pad to a max length. In this case, you can give a specific length with `max_length` (e.g. `max_length=45`) or leave max_length to None to pad to the maximal input size of the model (e.g. 512 for Bert).\n",
      "  warnings.warn(\n"
     ]
    },
    {
     "name": "stdout",
     "output_type": "stream",
     "text": [
      "Epoch 1 of 4\n",
      "Batch 1/6452 |>...................................................................................................| 0.0154990701% complete, loss=0.0000000000, accuracy=0Epoch: 0, Loss:  1.6068471670150757\n",
      "Batch 5001/6452 |█████████████████████████████████████████████████████████████████████████████>......................| 77.5108493490% complete, loss=0.0000000000, accuracy=0Epoch: 0, Loss:  0.24844273924827576\n",
      "Batch 6452/6452 |████████████████████████████████████████████████████████████████████████████████████████████████████| 100.0000000000% complete, loss=0.0000000000, accuracy=0"
     ]
    },
    {
     "name": "stderr",
     "output_type": "stream",
     "text": [
      "/usr/local/lib/python3.9/dist-packages/sklearn/metrics/_classification.py:1334: UndefinedMetricWarning: Precision and F-score are ill-defined and being set to 0.0 in samples with no predicted labels. Use `zero_division` parameter to control this behavior.\n",
      "  _warn_prf(average, modifier, msg_start, len(result))\n",
      "/usr/local/lib/python3.9/dist-packages/sklearn/metrics/_classification.py:1334: UndefinedMetricWarning: Recall and F-score are ill-defined and being set to 0.0 in samples with no true labels. Use `zero_division` parameter to control this behavior.\n",
      "  _warn_prf(average, modifier, msg_start, len(result))\n",
      "/usr/local/lib/python3.9/dist-packages/sklearn/metrics/_classification.py:1334: UndefinedMetricWarning: Precision and F-score are ill-defined and being set to 0.0 in samples with no predicted labels. Use `zero_division` parameter to control this behavior.\n",
      "  _warn_prf(average, modifier, msg_start, len(result))\n",
      "/usr/local/lib/python3.9/dist-packages/sklearn/metrics/_classification.py:1334: UndefinedMetricWarning: Recall and F-score are ill-defined and being set to 0.0 in samples with no true labels. Use `zero_division` parameter to control this behavior.\n",
      "  _warn_prf(average, modifier, msg_start, len(result))\n"
     ]
    },
    {
     "name": "stdout",
     "output_type": "stream",
     "text": [
      "Train Accuracy Score = 0.671\n",
      "Train Precision Score (Micro) = 0.641\n",
      "Train Precision Score (Micro) = 0.504\n",
      "Train Recall Score (Micro) = 0.966\n",
      "Train Recall Score (Macro) = 0.884\n",
      "Train F1 Score (Micro) = 0.771\n",
      "Train F1 Score (Macro) = 0.638\n",
      "Train AUC-ROC Score (Micro) = 0.934\n",
      "Train AUC-ROC Score (Macro) = 0.878\n",
      "Training Classification Report\n",
      "==============================\n",
      "              precision    recall  f1-score   support\n",
      "\n",
      "           0       0.72      0.99      0.83     96796\n",
      "           1       0.47      0.86      0.61      6582\n",
      "           2       0.35      0.78      0.48      3778\n",
      "           3       0.64      0.98      0.77     71258\n",
      "           4       0.44      0.88      0.59      8674\n",
      "           5       0.42      0.82      0.55      3262\n",
      "\n",
      "   micro avg       0.64      0.97      0.77    190350\n",
      "   macro avg       0.50      0.88      0.64    190350\n",
      "weighted avg       0.65      0.97      0.78    190350\n",
      " samples avg       0.41      0.46      0.43    190350\n",
      "\n",
      "Validation Accuracy Score = 0.719\n",
      "Validation Precision Score (Micro) = 0.679\n",
      "Validation Precision Score (Micro) = 0.541\n",
      "Validation Recall Score (Micro) = 0.98\n",
      "Validation Recall Score (Macro) = 0.949\n",
      "Validation F1 Score (Micro) = 0.803\n",
      "Validation F1 Score (Macro) = 0.682\n",
      "Validation AUC-ROC Score (Micro) = 0.948\n",
      "Validation AUC-ROC Score (Macro) = 0.921\n",
      "Validation Classification Report\n",
      "================================\n",
      "              precision    recall  f1-score   support\n",
      "\n",
      "           0       0.75      0.99      0.85      5106\n",
      "           1       0.53      0.94      0.67       355\n",
      "           2       0.38      0.87      0.53       192\n",
      "           3       0.68      0.98      0.80      3855\n",
      "           4       0.48      0.96      0.64       425\n",
      "           5       0.43      0.96      0.59       146\n",
      "\n",
      "   micro avg       0.68      0.98      0.80     10079\n",
      "   macro avg       0.54      0.95      0.68     10079\n",
      "weighted avg       0.69      0.98      0.81     10079\n",
      " samples avg       0.41      0.47      0.43     10079\n",
      "\n",
      "Epoch 2 of 4\n",
      "Batch 1/6452 |>...................................................................................................| 0.0154990701% complete, loss=0.0000000000, accuracy=0Epoch: 1, Loss:  0.22455452382564545\n"
     ]
    },
    {
     "name": "stderr",
     "output_type": "stream",
     "text": [
      "/usr/local/lib/python3.9/dist-packages/transformers/tokenization_utils_base.py:2323: FutureWarning: The `pad_to_max_length` argument is deprecated and will be removed in a future version, use `padding=True` or `padding='longest'` to pad to the longest sequence in the batch, or use `padding='max_length'` to pad to a max length. In this case, you can give a specific length with `max_length` (e.g. `max_length=45`) or leave max_length to None to pad to the maximal input size of the model (e.g. 512 for Bert).\n",
      "  warnings.warn(\n"
     ]
    },
    {
     "name": "stdout",
     "output_type": "stream",
     "text": [
      "Batch 5001/6452 |█████████████████████████████████████████████████████████████████████████████>......................| 77.5108493490% complete, loss=0.0000000000, accuracy=0Epoch: 1, Loss:  0.22106020152568817\n",
      "Batch 6452/6452 |████████████████████████████████████████████████████████████████████████████████████████████████████| 100.0000000000% complete, loss=0.0000000000, accuracy=0"
     ]
    },
    {
     "name": "stderr",
     "output_type": "stream",
     "text": [
      "/usr/local/lib/python3.9/dist-packages/sklearn/metrics/_classification.py:1334: UndefinedMetricWarning: Precision and F-score are ill-defined and being set to 0.0 in samples with no predicted labels. Use `zero_division` parameter to control this behavior.\n",
      "  _warn_prf(average, modifier, msg_start, len(result))\n",
      "/usr/local/lib/python3.9/dist-packages/sklearn/metrics/_classification.py:1334: UndefinedMetricWarning: Recall and F-score are ill-defined and being set to 0.0 in samples with no true labels. Use `zero_division` parameter to control this behavior.\n",
      "  _warn_prf(average, modifier, msg_start, len(result))\n",
      "/usr/local/lib/python3.9/dist-packages/sklearn/metrics/_classification.py:1334: UndefinedMetricWarning: Precision and F-score are ill-defined and being set to 0.0 in samples with no predicted labels. Use `zero_division` parameter to control this behavior.\n",
      "  _warn_prf(average, modifier, msg_start, len(result))\n",
      "/usr/local/lib/python3.9/dist-packages/sklearn/metrics/_classification.py:1334: UndefinedMetricWarning: Recall and F-score are ill-defined and being set to 0.0 in samples with no true labels. Use `zero_division` parameter to control this behavior.\n",
      "  _warn_prf(average, modifier, msg_start, len(result))\n"
     ]
    },
    {
     "name": "stdout",
     "output_type": "stream",
     "text": [
      "Train Accuracy Score = 0.733\n",
      "Train Precision Score (Micro) = 0.697\n",
      "Train Precision Score (Micro) = 0.566\n",
      "Train Recall Score (Micro) = 0.982\n",
      "Train Recall Score (Macro) = 0.946\n",
      "Train F1 Score (Micro) = 0.815\n",
      "Train F1 Score (Macro) = 0.703\n",
      "Train AUC-ROC Score (Micro) = 0.952\n",
      "Train AUC-ROC Score (Macro) = 0.923\n",
      "Training Classification Report\n",
      "==============================\n",
      "              precision    recall  f1-score   support\n",
      "\n",
      "           0       0.77      0.99      0.87     96796\n",
      "           1       0.53      0.94      0.68      6582\n",
      "           2       0.42      0.90      0.58      3778\n",
      "           3       0.69      0.98      0.81     71258\n",
      "           4       0.49      0.94      0.64      8674\n",
      "           5       0.49      0.92      0.64      3262\n",
      "\n",
      "   micro avg       0.70      0.98      0.82    190350\n",
      "   macro avg       0.57      0.95      0.70    190350\n",
      "weighted avg       0.71      0.98      0.82    190350\n",
      " samples avg       0.42      0.47      0.43    190350\n",
      "\n",
      "Validation Accuracy Score = 0.738\n",
      "Validation Precision Score (Micro) = 0.701\n",
      "Validation Precision Score (Micro) = 0.578\n",
      "Validation Recall Score (Micro) = 0.976\n",
      "Validation Recall Score (Macro) = 0.934\n",
      "Validation F1 Score (Micro) = 0.816\n",
      "Validation F1 Score (Macro) = 0.71\n",
      "Validation AUC-ROC Score (Micro) = 0.951\n",
      "Validation AUC-ROC Score (Macro) = 0.918\n",
      "Validation Classification Report\n",
      "================================\n",
      "              precision    recall  f1-score   support\n",
      "\n",
      "           0       0.76      0.99      0.86      5106\n",
      "           1       0.55      0.92      0.69       355\n",
      "           2       0.43      0.88      0.57       192\n",
      "           3       0.69      0.98      0.81      3855\n",
      "           4       0.54      0.93      0.68       425\n",
      "           5       0.49      0.91      0.64       146\n",
      "\n",
      "   micro avg       0.70      0.98      0.82     10079\n",
      "   macro avg       0.58      0.93      0.71     10079\n",
      "weighted avg       0.71      0.98      0.82     10079\n",
      " samples avg       0.41      0.46      0.43     10079\n",
      "\n",
      "Epoch 3 of 4\n",
      "Batch 1/6452 |>...................................................................................................| 0.0154990701% complete, loss=0.0000000000, accuracy=0Epoch: 2, Loss:  0.17870494723320007\n"
     ]
    },
    {
     "name": "stderr",
     "output_type": "stream",
     "text": [
      "/usr/local/lib/python3.9/dist-packages/transformers/tokenization_utils_base.py:2323: FutureWarning: The `pad_to_max_length` argument is deprecated and will be removed in a future version, use `padding=True` or `padding='longest'` to pad to the longest sequence in the batch, or use `padding='max_length'` to pad to a max length. In this case, you can give a specific length with `max_length` (e.g. `max_length=45`) or leave max_length to None to pad to the maximal input size of the model (e.g. 512 for Bert).\n",
      "  warnings.warn(\n"
     ]
    },
    {
     "name": "stdout",
     "output_type": "stream",
     "text": [
      "Batch 5001/6452 |█████████████████████████████████████████████████████████████████████████████>......................| 77.5108493490% complete, loss=0.0000000000, accuracy=0Epoch: 2, Loss:  0.205413818359375\n",
      "Batch 6452/6452 |████████████████████████████████████████████████████████████████████████████████████████████████████| 100.0000000000% complete, loss=0.0000000000, accuracy=0"
     ]
    },
    {
     "name": "stderr",
     "output_type": "stream",
     "text": [
      "/usr/local/lib/python3.9/dist-packages/sklearn/metrics/_classification.py:1334: UndefinedMetricWarning: Precision and F-score are ill-defined and being set to 0.0 in samples with no predicted labels. Use `zero_division` parameter to control this behavior.\n",
      "  _warn_prf(average, modifier, msg_start, len(result))\n",
      "/usr/local/lib/python3.9/dist-packages/sklearn/metrics/_classification.py:1334: UndefinedMetricWarning: Recall and F-score are ill-defined and being set to 0.0 in samples with no true labels. Use `zero_division` parameter to control this behavior.\n",
      "  _warn_prf(average, modifier, msg_start, len(result))\n",
      "/usr/local/lib/python3.9/dist-packages/sklearn/metrics/_classification.py:1334: UndefinedMetricWarning: Precision and F-score are ill-defined and being set to 0.0 in samples with no predicted labels. Use `zero_division` parameter to control this behavior.\n",
      "  _warn_prf(average, modifier, msg_start, len(result))\n",
      "/usr/local/lib/python3.9/dist-packages/sklearn/metrics/_classification.py:1334: UndefinedMetricWarning: Recall and F-score are ill-defined and being set to 0.0 in samples with no true labels. Use `zero_division` parameter to control this behavior.\n",
      "  _warn_prf(average, modifier, msg_start, len(result))\n"
     ]
    },
    {
     "name": "stdout",
     "output_type": "stream",
     "text": [
      "Train Accuracy Score = 0.764\n",
      "Train Precision Score (Micro) = 0.727\n",
      "Train Precision Score (Micro) = 0.604\n",
      "Train Recall Score (Micro) = 0.987\n",
      "Train Recall Score (Macro) = 0.964\n",
      "Train F1 Score (Micro) = 0.838\n",
      "Train F1 Score (Macro) = 0.738\n",
      "Train AUC-ROC Score (Micro) = 0.96\n",
      "Train AUC-ROC Score (Macro) = 0.939\n",
      "Training Classification Report\n",
      "==============================\n",
      "              precision    recall  f1-score   support\n",
      "\n",
      "           0       0.80      0.99      0.89     96796\n",
      "           1       0.57      0.96      0.71      6582\n",
      "           2       0.49      0.94      0.64      3778\n",
      "           3       0.72      0.99      0.83     71258\n",
      "           4       0.53      0.96      0.68      8674\n",
      "           5       0.52      0.95      0.67      3262\n",
      "\n",
      "   micro avg       0.73      0.99      0.84    190350\n",
      "   macro avg       0.60      0.96      0.74    190350\n",
      "weighted avg       0.74      0.99      0.84    190350\n",
      " samples avg       0.42      0.47      0.44    190350\n",
      "\n",
      "Validation Accuracy Score = 0.73\n",
      "Validation Precision Score (Micro) = 0.691\n",
      "Validation Precision Score (Micro) = 0.553\n",
      "Validation Recall Score (Micro) = 0.98\n",
      "Validation Recall Score (Macro) = 0.948\n",
      "Validation F1 Score (Micro) = 0.811\n",
      "Validation F1 Score (Macro) = 0.692\n",
      "Validation AUC-ROC Score (Micro) = 0.951\n",
      "Validation AUC-ROC Score (Macro) = 0.923\n",
      "Validation Classification Report\n",
      "================================\n",
      "              precision    recall  f1-score   support\n",
      "\n",
      "           0       0.76      0.99      0.86      5106\n",
      "           1       0.49      0.94      0.65       355\n",
      "           2       0.41      0.89      0.56       192\n",
      "           3       0.70      0.98      0.82      3855\n",
      "           4       0.46      0.97      0.62       425\n",
      "           5       0.50      0.92      0.64       146\n",
      "\n",
      "   micro avg       0.69      0.98      0.81     10079\n",
      "   macro avg       0.55      0.95      0.69     10079\n",
      "weighted avg       0.71      0.98      0.82     10079\n",
      " samples avg       0.41      0.47      0.43     10079\n",
      "\n",
      "Epoch 4 of 4\n",
      "Batch 1/6452 |>...................................................................................................| 0.0154990701% complete, loss=0.0000000000, accuracy=0Epoch: 3, Loss:  0.23413726687431335\n"
     ]
    },
    {
     "name": "stderr",
     "output_type": "stream",
     "text": [
      "/usr/local/lib/python3.9/dist-packages/transformers/tokenization_utils_base.py:2323: FutureWarning: The `pad_to_max_length` argument is deprecated and will be removed in a future version, use `padding=True` or `padding='longest'` to pad to the longest sequence in the batch, or use `padding='max_length'` to pad to a max length. In this case, you can give a specific length with `max_length` (e.g. `max_length=45`) or leave max_length to None to pad to the maximal input size of the model (e.g. 512 for Bert).\n",
      "  warnings.warn(\n"
     ]
    },
    {
     "name": "stdout",
     "output_type": "stream",
     "text": [
      "Batch 5001/6452 |█████████████████████████████████████████████████████████████████████████████>......................| 77.5108493490% complete, loss=0.0000000000, accuracy=0Epoch: 3, Loss:  0.28655335307121277\n",
      "Batch 6452/6452 |████████████████████████████████████████████████████████████████████████████████████████████████████| 100.0000000000% complete, loss=0.0000000000, accuracy=0"
     ]
    },
    {
     "name": "stderr",
     "output_type": "stream",
     "text": [
      "/usr/local/lib/python3.9/dist-packages/sklearn/metrics/_classification.py:1334: UndefinedMetricWarning: Precision and F-score are ill-defined and being set to 0.0 in samples with no predicted labels. Use `zero_division` parameter to control this behavior.\n",
      "  _warn_prf(average, modifier, msg_start, len(result))\n",
      "/usr/local/lib/python3.9/dist-packages/sklearn/metrics/_classification.py:1334: UndefinedMetricWarning: Recall and F-score are ill-defined and being set to 0.0 in samples with no true labels. Use `zero_division` parameter to control this behavior.\n",
      "  _warn_prf(average, modifier, msg_start, len(result))\n",
      "/usr/local/lib/python3.9/dist-packages/sklearn/metrics/_classification.py:1334: UndefinedMetricWarning: Precision and F-score are ill-defined and being set to 0.0 in samples with no predicted labels. Use `zero_division` parameter to control this behavior.\n",
      "  _warn_prf(average, modifier, msg_start, len(result))\n",
      "/usr/local/lib/python3.9/dist-packages/sklearn/metrics/_classification.py:1334: UndefinedMetricWarning: Recall and F-score are ill-defined and being set to 0.0 in samples with no true labels. Use `zero_division` parameter to control this behavior.\n",
      "  _warn_prf(average, modifier, msg_start, len(result))\n"
     ]
    },
    {
     "name": "stdout",
     "output_type": "stream",
     "text": [
      "Train Accuracy Score = 0.788\n",
      "Train Precision Score (Micro) = 0.753\n",
      "Train Precision Score (Micro) = 0.637\n",
      "Train Recall Score (Micro) = 0.99\n",
      "Train Recall Score (Macro) = 0.974\n",
      "Train F1 Score (Micro) = 0.855\n",
      "Train F1 Score (Macro) = 0.766\n",
      "Train AUC-ROC Score (Micro) = 0.966\n",
      "Train AUC-ROC Score (Macro) = 0.949\n",
      "Training Classification Report\n",
      "==============================\n",
      "              precision    recall  f1-score   support\n",
      "\n",
      "           0       0.82      1.00      0.90     96796\n",
      "           1       0.59      0.97      0.73      6582\n",
      "           2       0.54      0.96      0.69      3778\n",
      "           3       0.74      0.99      0.85     71258\n",
      "           4       0.56      0.97      0.71      8674\n",
      "           5       0.57      0.96      0.71      3262\n",
      "\n",
      "   micro avg       0.75      0.99      0.86    190350\n",
      "   macro avg       0.64      0.97      0.77    190350\n",
      "weighted avg       0.76      0.99      0.86    190350\n",
      " samples avg       0.42      0.48      0.44    190350\n",
      "\n",
      "Validation Accuracy Score = 0.773\n",
      "Validation Precision Score (Micro) = 0.741\n",
      "Validation Precision Score (Micro) = 0.597\n",
      "Validation Recall Score (Micro) = 0.965\n",
      "Validation Recall Score (Macro) = 0.932\n",
      "Validation F1 Score (Micro) = 0.838\n",
      "Validation F1 Score (Macro) = 0.722\n",
      "Validation AUC-ROC Score (Micro) = 0.952\n",
      "Validation AUC-ROC Score (Macro) = 0.927\n",
      "Validation Classification Report\n",
      "================================\n",
      "              precision    recall  f1-score   support\n",
      "\n",
      "           0       0.81      0.97      0.89      5106\n",
      "           1       0.54      0.93      0.69       355\n",
      "           2       0.48      0.83      0.61       192\n",
      "           3       0.74      0.97      0.84      3855\n",
      "           4       0.51      0.95      0.67       425\n",
      "           5       0.49      0.95      0.64       146\n",
      "\n",
      "   micro avg       0.74      0.97      0.84     10079\n",
      "   macro avg       0.60      0.93      0.72     10079\n",
      "weighted avg       0.75      0.97      0.84     10079\n",
      " samples avg       0.41      0.46      0.43     10079\n",
      "\n"
     ]
    }
   ],
   "source": [
    "from collections import defaultdict\n",
    "history = defaultdict(list)\n",
    "\n",
    "for epoch in range(start_epoch, EPOCHS):\n",
    "    print('Epoch',epoch+1,'of',EPOCHS)\n",
    "    train_op, train_target,train_loss = train(epoch,TRAIN_BATCH_SIZE,weights)\n",
    "    val_op, val_target,val_loss = validation(model,validation_loader,device,weights)\n",
    "    train_op = np.array(train_op) >= 0.5\n",
    "    \n",
    "    val_op = np.array(val_op) >= 0.5\n",
    "    train_accuracy = round(metrics.accuracy_score(train_target, train_op),3)\n",
    "    train_precision_score_micro = round(metrics.precision_score(train_target, train_op, average='micro'),3)\n",
    "    train_precision_score_macro = round(metrics.precision_score(train_target, train_op, average='macro'),3)\n",
    "    train_recall_score_micro = round(metrics.recall_score(train_target, train_op, average='micro'),3)\n",
    "    train_recall_score_macro = round(metrics.recall_score(train_target, train_op, average='macro'),3)\n",
    "    train_f1_score_micro = round(metrics.f1_score(train_target, train_op, average='micro'),3)\n",
    "    train_f1_score_macro = round(metrics.f1_score(train_target, train_op, average='macro'),3)\n",
    "    train_auc_roc_micro = round(metrics.roc_auc_score(train_target, train_op, average='micro'),3)\n",
    "    train_auc_roc_macro = round(metrics.roc_auc_score(train_target, train_op, average='macro'),3)\n",
    "    train_clf = metrics.classification_report(train_target, train_op)\n",
    "    \n",
    "    val_accuracy = round(metrics.accuracy_score(val_target, val_op),3)\n",
    "    val_precision_score_micro = round(metrics.precision_score(val_target, val_op, average='micro'),3)\n",
    "    val_precision_score_macro = round(metrics.precision_score(val_target, val_op, average='macro'),3)\n",
    "    val_recall_score_micro = round(metrics.recall_score(val_target, val_op, average='micro'),3)\n",
    "    val_recall_score_macro = round(metrics.recall_score(val_target, val_op, average='macro'),3)\n",
    "    val_f1_score_micro = round(metrics.f1_score(val_target, val_op, average='micro'),3)\n",
    "    val_f1_score_macro = round(metrics.f1_score(val_target, val_op, average='macro'),3)\n",
    "    val_auc_roc_micro = round(metrics.roc_auc_score(val_target, val_op, average='micro'),3)\n",
    "    val_auc_roc_macro = round(metrics.roc_auc_score(val_target, val_op, average='macro'),3)\n",
    "    val_clf = metrics.classification_report(val_target,val_op)\n",
    "    \n",
    "#     if os.path.exists(model_path):\n",
    "#         os.remove(model_path)  #Delete the previous file if any\n",
    "    path = 'Output/checkpoint_' + str(epoch+1)+'.pth'\n",
    "    torch.save({\n",
    "            'epoch': epoch,\n",
    "            'model_state_dict': model.state_dict(),\n",
    "            'optimizer_state_dict': optimizer.state_dict(),\n",
    "            'loss': train_loss,\n",
    "            }, path)\n",
    "    \n",
    "    \n",
    "    history['train_acc'].append(train_accuracy)\n",
    "    history['train_loss'].append(round(train_loss.item(),4))\n",
    "    history['train_precision_score_micro'].append(train_precision_score_micro)\n",
    "    history['train_precision_score_macro'].append(train_precision_score_macro)    \n",
    "    history['train_recall_score_micro'].append(train_recall_score_micro)\n",
    "    history['train_recall_score_macro'].append(train_recall_score_macro)\n",
    "    history['train_f1_score_micro'].append(train_f1_score_micro)\n",
    "    history['train_f1_score_macro'].append(train_f1_score_macro)\n",
    "    history['train_rocauc_score_micro'].append(train_auc_roc_micro)\n",
    "    history['train_rocauc_score_macro'].append(train_auc_roc_macro)\n",
    "    \n",
    "    history['val_acc'].append(val_accuracy)\n",
    "    history['val_loss'].append(round(val_loss.item(),4))\n",
    "    history['val_precision_score_micro'].append(val_precision_score_micro)\n",
    "    history['val_precision_score_macro'].append(val_precision_score_macro)\n",
    "    history['val_recall_score_micro'].append(val_recall_score_micro)\n",
    "    history['val_recall_score_macro'].append(val_recall_score_macro)\n",
    "    history['val_f1_score_micro'].append(val_f1_score_micro)\n",
    "    history['val_f1_score_macro'].append(val_f1_score_macro)  \n",
    "    history['val_rocauc_score_micro'].append(val_auc_roc_micro)\n",
    "    history['val_rocauc_score_macro'].append(val_auc_roc_macro)\n",
    "    \n",
    "    print(f\"Train Accuracy Score = {train_accuracy}\")\n",
    "    print(f\"Train Precision Score (Micro) = {train_precision_score_micro}\")\n",
    "    print(f\"Train Precision Score (Micro) = {train_precision_score_macro}\")\n",
    "    print(f\"Train Recall Score (Micro) = {train_recall_score_micro}\")\n",
    "    print(f\"Train Recall Score (Macro) = {train_recall_score_macro}\")\n",
    "    print(f\"Train F1 Score (Micro) = {train_f1_score_micro}\")\n",
    "    print(f\"Train F1 Score (Macro) = {train_f1_score_macro}\")\n",
    "    print(f\"Train AUC-ROC Score (Micro) = {train_auc_roc_micro}\")\n",
    "    print(f\"Train AUC-ROC Score (Macro) = {train_auc_roc_macro}\")\n",
    "    print(\"Training Classification Report\")\n",
    "    print(\"==============================\")\n",
    "    print(train_clf)\n",
    "    \n",
    "    print(f\"Validation Accuracy Score = {val_accuracy}\")\n",
    "    print(f\"Validation Precision Score (Micro) = {val_precision_score_micro}\")\n",
    "    print(f\"Validation Precision Score (Micro) = {val_precision_score_macro}\")\n",
    "    print(f\"Validation Recall Score (Micro) = {val_recall_score_micro}\")\n",
    "    print(f\"Validation Recall Score (Macro) = {val_recall_score_macro}\")\n",
    "    print(f\"Validation F1 Score (Micro) = {val_f1_score_micro}\")\n",
    "    print(f\"Validation F1 Score (Macro) = {val_f1_score_macro}\")\n",
    "    print(f\"Validation AUC-ROC Score (Micro) = {val_auc_roc_micro}\")\n",
    "    print(f\"Validation AUC-ROC Score (Macro) = {val_auc_roc_macro}\")\n",
    "    print(\"Validation Classification Report\")\n",
    "    print(\"================================\")\n",
    "    print(val_clf)"
   ]
  },
  {
   "cell_type": "code",
   "execution_count": 68,
   "metadata": {},
   "outputs": [
    {
     "data": {
      "image/png": "[encoded data removed]",
      "text/plain": [
       "<Figure size 640x480 with 1 Axes>"
      ]
     },
     "metadata": {},
     "output_type": "display_data"
    },
    {
     "data": {
      "image/png": "[encoded data removed]",
      "text/plain": [
       "<Figure size 640x480 with 1 Axes>"
      ]
     },
     "metadata": {},
     "output_type": "display_data"
    }
   ],
   "source": [
    "import matplotlib.pyplot as plt\n",
    "plt.plot(history['train_acc'], label='train accuracy')\n",
    "plt.plot(history['val_acc'], label='validation accuracy')\n",
    "plt.title('Training history')\n",
    "plt.ylabel('Accuracy')\n",
    "plt.xlabel('Epoch')\n",
    "plt.legend()\n",
    "plt.ylim([0, 1]);\n",
    "plt.show()\n",
    "\n",
    "plt.plot(history['train_loss'], label='training loss')\n",
    "plt.plot(history['val_loss'], label='validation loss')\n",
    "plt.title('Training history')\n",
    "plt.ylabel('Loss')\n",
    "plt.xlabel('Epoch')\n",
    "plt.legend()\n",
    "plt.ylim([0, 1]);\n",
    "plt.show()"
   ]
  },
  {
   "cell_type": "code",
   "execution_count": 69,
   "metadata": {},
   "outputs": [
    {
     "data": {
      "text/plain": [
       "defaultdict(list,\n",
       "            {'train_acc': [0.671, 0.733, 0.764, 0.788],\n",
       "             'train_loss': [0.4374, 0.1772, 0.469, 0.1993],\n",
       "             'train_precision_score_micro': [0.641, 0.697, 0.727, 0.753],\n",
       "             'train_precision_score_macro': [0.504, 0.566, 0.604, 0.637],\n",
       "             'train_recall_score_micro': [0.966, 0.982, 0.987, 0.99],\n",
       "             'train_recall_score_macro': [0.884, 0.946, 0.964, 0.974],\n",
       "             'train_f1_score_micro': [0.771, 0.815, 0.838, 0.855],\n",
       "             'train_f1_score_macro': [0.638, 0.703, 0.738, 0.766],\n",
       "             'train_rocauc_score_micro': [0.934, 0.952, 0.96, 0.966],\n",
       "             'train_rocauc_score_macro': [0.878, 0.923, 0.939, 0.949],\n",
       "             'val_acc': [0.719, 0.738, 0.73, 0.773],\n",
       "             'val_loss': [0.184, 0.0804, 0.0237, 0.1208],\n",
       "             'val_precision_score_micro': [0.679, 0.701, 0.691, 0.741],\n",
       "             'val_precision_score_macro': [0.541, 0.578, 0.553, 0.597],\n",
       "             'val_recall_score_micro': [0.98, 0.976, 0.98, 0.965],\n",
       "             'val_recall_score_macro': [0.949, 0.934, 0.948, 0.932],\n",
       "             'val_f1_score_micro': [0.803, 0.816, 0.811, 0.838],\n",
       "             'val_f1_score_macro': [0.682, 0.71, 0.692, 0.722],\n",
       "             'val_rocauc_score_micro': [0.948, 0.951, 0.951, 0.952],\n",
       "             'val_rocauc_score_macro': [0.921, 0.918, 0.923, 0.927]})"
      ]
     },
     "execution_count": 69,
     "metadata": {},
     "output_type": "execute_result"
    }
   ],
   "source": [
    "history"
   ]
  },
  {
   "cell_type": "code",
   "execution_count": 70,
   "metadata": {},
   "outputs": [
    {
     "name": "stderr",
     "output_type": "stream",
     "text": [
      "/usr/local/lib/python3.9/dist-packages/transformers/tokenization_utils_base.py:2323: FutureWarning: The `pad_to_max_length` argument is deprecated and will be removed in a future version, use `padding=True` or `padding='longest'` to pad to the longest sequence in the batch, or use `padding='max_length'` to pad to a max length. In this case, you can give a specific length with `max_length` (e.g. `max_length=45`) or leave max_length to None to pad to the maximal input size of the model (e.g. 512 for Bert).\n",
      "  warnings.warn(\n"
     ]
    },
    {
     "name": "stdout",
     "output_type": "stream",
     "text": [
      "accuracy 0.7679162565983717\n",
      "precision micro 0.736367666617408\n",
      "precision macro 0.5960360827130237\n",
      "recall micro 0.963177732676138\n",
      "recall macro 0.9232347089175786\n",
      "f1 micro 0.8346384154767389\n",
      "f1 macro 0.7186624971213957\n",
      "roc_auc micro 0.950133343107883\n",
      "roc_auc macro 0.9215262590166948\n",
      "Classification Report\n",
      "=====================\n",
      "              precision    recall  f1-score   support\n",
      "\n",
      "           0       0.81      0.97      0.89      5242\n",
      "           1       0.57      0.93      0.70       394\n",
      "           2       0.50      0.83      0.62       197\n",
      "           3       0.73      0.97      0.83      3907\n",
      "           4       0.51      0.91      0.65       445\n",
      "           5       0.46      0.93      0.62       162\n",
      "\n",
      "   micro avg       0.74      0.96      0.83     10347\n",
      "   macro avg       0.60      0.92      0.72     10347\n",
      "weighted avg       0.75      0.96      0.84     10347\n",
      " samples avg       0.41      0.46      0.43     10347\n",
      "\n"
     ]
    },
    {
     "name": "stderr",
     "output_type": "stream",
     "text": [
      "/usr/local/lib/python3.9/dist-packages/sklearn/metrics/_classification.py:1334: UndefinedMetricWarning: Precision and F-score are ill-defined and being set to 0.0 in samples with no predicted labels. Use `zero_division` parameter to control this behavior.\n",
      "  _warn_prf(average, modifier, msg_start, len(result))\n",
      "/usr/local/lib/python3.9/dist-packages/sklearn/metrics/_classification.py:1334: UndefinedMetricWarning: Recall and F-score are ill-defined and being set to 0.0 in samples with no true labels. Use `zero_division` parameter to control this behavior.\n",
      "  _warn_prf(average, modifier, msg_start, len(result))\n"
     ]
    }
   ],
   "source": [
    "test_op,test_target, test_loss = validation(\n",
    "  model,\n",
    "  testing_loader,\n",
    "  device,weights\n",
    ")\n",
    "\n",
    "test_op = np.array(test_op) >= 0.5\n",
    "test_accuracy = metrics.accuracy_score(test_target, test_op)\n",
    "test_precision_score_micro = metrics.precision_score(test_target, test_op, average='micro')\n",
    "test_precision_score_macro = metrics.precision_score(test_target, test_op, average='macro')\n",
    "test_recall_score_micro = metrics.recall_score(test_target, test_op, average='micro')\n",
    "test_recall_score_macro = metrics.recall_score(test_target, test_op, average='macro')\n",
    "test_f1_score_micro = metrics.f1_score(test_target, test_op, average='micro')\n",
    "test_f1_score_macro = metrics.f1_score(test_target, test_op, average='macro')\n",
    "test_clf = metrics.classification_report(test_target, test_op)\n",
    "test_roc_auc_micro = metrics.roc_auc_score(test_target,test_op, average='micro')\n",
    "test_roc_auc_macro = metrics.roc_auc_score(test_target,test_op, average='macro')\n",
    "\n",
    "print('accuracy',test_accuracy)\n",
    "print('precision micro',test_precision_score_micro)\n",
    "print('precision macro',test_precision_score_macro)\n",
    "print('recall micro',test_recall_score_micro)\n",
    "print('recall macro',test_recall_score_macro)\n",
    "print('f1 micro',test_f1_score_micro)\n",
    "print('f1 macro',test_f1_score_macro)\n",
    "print('roc_auc micro',test_roc_auc_micro)\n",
    "print('roc_auc macro',test_roc_auc_macro)\n",
    "print('Classification Report')\n",
    "print('=====================')\n",
    "print(test_clf)"
   ]
  },
  {
   "cell_type": "code",
   "execution_count": 71,
   "metadata": {},
   "outputs": [
    {
     "name": "stderr",
     "output_type": "stream",
     "text": [
      "/usr/local/lib/python3.9/dist-packages/transformers/tokenization_utils_base.py:2323: FutureWarning: The `pad_to_max_length` argument is deprecated and will be removed in a future version, use `padding=True` or `padding='longest'` to pad to the longest sequence in the batch, or use `padding='max_length'` to pad to a max length. In this case, you can give a specific length with `max_length` (e.g. `max_length=45`) or leave max_length to None to pad to the maximal input size of the model (e.g. 512 for Bert).\n",
      "  warnings.warn(\n"
     ]
    },
    {
     "data": {
      "text/plain": [
       "array([[ True, False, False,  True, False, False],\n",
       "       [ True, False, False,  True, False, False],\n",
       "       [ True, False, False,  True, False, False],\n",
       "       ...,\n",
       "       [False, False, False, False, False, False],\n",
       "       [ True, False, False,  True,  True, False],\n",
       "       [False, False, False, False, False, False]])"
      ]
     },
     "execution_count": 71,
     "metadata": {},
     "output_type": "execute_result"
    }
   ],
   "source": [
    "y_pred, y_true,loss = validation(\n",
    "  model,\n",
    "  testing_loader,device,weights\n",
    ")\n",
    "y_pred = np.array(y_pred) >= 0.5\n",
    "y_pred"
   ]
  },
  {
   "cell_type": "code",
   "execution_count": 72,
   "metadata": {},
   "outputs": [
    {
     "name": "stdout",
     "output_type": "stream",
     "text": [
      "              precision    recall  f1-score   support\n",
      "\n",
      "           0       0.81      0.97      0.89      5242\n",
      "           1       0.57      0.93      0.70       394\n",
      "           2       0.50      0.83      0.62       197\n",
      "           3       0.73      0.97      0.83      3907\n",
      "           4       0.51      0.91      0.65       445\n",
      "           5       0.46      0.93      0.62       162\n",
      "\n",
      "   micro avg       0.74      0.96      0.83     10347\n",
      "   macro avg       0.60      0.92      0.72     10347\n",
      "weighted avg       0.75      0.96      0.84     10347\n",
      " samples avg       0.41      0.46      0.43     10347\n",
      "\n"
     ]
    },
    {
     "name": "stderr",
     "output_type": "stream",
     "text": [
      "/usr/local/lib/python3.9/dist-packages/sklearn/metrics/_classification.py:1334: UndefinedMetricWarning: Precision and F-score are ill-defined and being set to 0.0 in samples with no predicted labels. Use `zero_division` parameter to control this behavior.\n",
      "  _warn_prf(average, modifier, msg_start, len(result))\n",
      "/usr/local/lib/python3.9/dist-packages/sklearn/metrics/_classification.py:1334: UndefinedMetricWarning: Recall and F-score are ill-defined and being set to 0.0 in samples with no true labels. Use `zero_division` parameter to control this behavior.\n",
      "  _warn_prf(average, modifier, msg_start, len(result))\n"
     ]
    }
   ],
   "source": [
    "from sklearn.metrics import classification_report,confusion_matrix\n",
    "print(classification_report(y_true, y_pred))"
   ]
  },
  {
   "cell_type": "code",
   "execution_count": 73,
   "metadata": {},
   "outputs": [
    {
     "data": {
      "text/plain": [
       "array([[11035,     0,     1,     3,     0,     2],\n",
       "       [   13,     0,     0,     0,     0,     0],\n",
       "       [    6,     0,     0,     0,     0,     0],\n",
       "       [   74,     0,     0,     0,     0,     0],\n",
       "       [   30,     0,     0,     0,     0,     0],\n",
       "       [   13,     0,     0,     0,     0,     0]])"
      ]
     },
     "execution_count": 73,
     "metadata": {},
     "output_type": "execute_result"
    }
   ],
   "source": [
    "#from sklearn.metrics import multilabel_confusion_matrix\n",
    "confusion_matrix(np.array(y_true).argmax(axis=1),np.array(y_pred).argmax(axis=1))"
   ]
  },
  {
   "cell_type": "code",
   "execution_count": 74,
   "metadata": {},
   "outputs": [
    {
     "data": {
      "image/png": "[encoded data removed]",
      "text/plain": [
       "<Figure size 640x480 with 2 Axes>"
      ]
     },
     "metadata": {},
     "output_type": "display_data"
    }
   ],
   "source": [
    "import seaborn as sns\n",
    "class_name = ['toxic','obscene','threat','insult','identity_hate','sexual_explicit']\n",
    "def show_confusion_matrix(confusion_matrix):\n",
    "  hmap = sns.heatmap(confusion_matrix, annot=True, fmt=\"d\", cmap=\"Blues\")\n",
    "  hmap.yaxis.set_ticklabels(hmap.yaxis.get_ticklabels(), rotation=0, ha='right')\n",
    "  hmap.xaxis.set_ticklabels(hmap.xaxis.get_ticklabels(), rotation=30, ha='right')\n",
    "  plt.ylabel('True sentiment')\n",
    "  plt.xlabel('Predicted sentiment');\n",
    "cm = confusion_matrix(np.array(y_true).argmax(axis=1),np.array(y_pred).argmax(axis=1))\n",
    "df_cm = pd.DataFrame(cm, index=class_name, columns=class_name)\n",
    "show_confusion_matrix(df_cm)"
   ]
  },
  {
   "cell_type": "code",
   "execution_count": 75,
   "metadata": {},
   "outputs": [],
   "source": [
    "#Prediction"
   ]
  },
  {
   "cell_type": "code",
   "execution_count": 76,
   "metadata": {},
   "outputs": [
    {
     "name": "stdout",
     "output_type": "stream",
     "text": [
      "Review text: You criminal.. I will k*ll you\n",
      "Sentiment  : [tensor([ True,  True,  True,  True, False, False])]\n"
     ]
    },
    {
     "name": "stderr",
     "output_type": "stream",
     "text": [
      "/usr/local/lib/python3.9/dist-packages/transformers/tokenization_utils_base.py:2323: FutureWarning: The `pad_to_max_length` argument is deprecated and will be removed in a future version, use `padding=True` or `padding='longest'` to pad to the longest sequence in the batch, or use `padding='max_length'` to pad to a max length. In this case, you can give a specific length with `max_length` (e.g. `max_length=45`) or leave max_length to None to pad to the maximal input size of the model (e.g. 512 for Bert).\n",
      "  warnings.warn(\n"
     ]
    },
    {
     "data": {
      "text/plain": [
       "{'toxic': tensor(True),\n",
       " 'obscene': tensor(True),\n",
       " 'threat': tensor(True),\n",
       " 'insult': tensor(True),\n",
       " 'identity_hate': tensor(False),\n",
       " 'sexual_explicit': tensor(False)}"
      ]
     },
     "execution_count": 76,
     "metadata": {},
     "output_type": "execute_result"
    }
   ],
   "source": [
    "class_name = ['toxic','obscene','threat','insult','identity_hate','sexual_explicit']\n",
    "\n",
    "review_text = \"You criminal.. I will k*ll you\"\n",
    "\n",
    "encoded_review = tokenizer.encode_plus(\n",
    "  review_text,\n",
    "  max_length=100,\n",
    "  add_special_tokens=True,\n",
    "  return_token_type_ids=True,\n",
    "  pad_to_max_length=True,\n",
    "  return_attention_mask=True,\n",
    "  return_tensors='pt',\n",
    ")\n",
    "\n",
    "def sigmoid(x):\n",
    "    return 1 / (1 + np.exp(-x))\n",
    "\n",
    "input_ids = encoded_review['input_ids'].to(device)\n",
    "attention_mask = encoded_review['attention_mask'].to(device)\n",
    "token_type_ids = encoded_review['token_type_ids'].to(device)\n",
    "output = model(input_ids, attention_mask)\n",
    "output = sigmoid(output.cpu().detach())>0.5\n",
    "output = list(output)\n",
    "\n",
    "print(f'Review text: {review_text}')\n",
    "print(f'Sentiment  : {output}')\n",
    "\n",
    "op = {\n",
    "    'toxic':output[0][0],\n",
    "    'obscene':output[0][1],\n",
    "    'threat':output[0][2],\n",
    "    'insult':output[0][3],\n",
    "    'identity_hate':output[0][4],\n",
    "    'sexual_explicit':output[0][5]\n",
    "}\n",
    "op"
   ]
  },
  {
   "cell_type": "markdown",
   "metadata": {
    "id": "XJhQvyorLcd7"
   },
   "source": [
    "<a id='section07'></a>\n",
    "### Saving the Trained Model Artifacts for inference\n",
    "\n",
    "This is the final step in the process of fine tuning the model.\n",
    "\n",
    "The model and its vocabulary are saved locally. These files are then used in the future to make inference on new inputs of news headlines.\n",
    "\n",
    "Please remember that a trained neural network is only useful when used in actual inference after its training.\n",
    "\n",
    "In the lifecycle of an ML projects this is only half the job done. We will leave the inference of these models for some other day."
   ]
  }
 ],
 "metadata": {
  "accelerator": "GPU",
  "colab": {
   "gpuType": "T4",
   "provenance": []
  },
  "kaggle": {
   "accelerator": "gpu",
   "dataSources": [
    {
     "datasetId": 4492760,
     "sourceId": 7697368,
     "sourceType": "datasetVersion"
    },
    {
     "datasetId": 4492788,
     "sourceId": 7697410,
     "sourceType": "datasetVersion"
    }
   ],
   "dockerImageVersionId": 30646,
   "isGpuEnabled": true,
   "isInternetEnabled": true,
   "language": "python",
   "sourceType": "notebook"
  },
  "kernelspec": {
   "display_name": "Python 3 (ipykernel)",
   "language": "python",
   "name": "python3"
  },
  "language_info": {
   "codemirror_mode": {
    "name": "ipython",
    "version": 3
   },
   "file_extension": ".py",
   "mimetype": "text/x-python",
   "name": "python",
   "nbconvert_exporter": "python",
   "pygments_lexer": "ipython3",
   "version": "3.9.16"
  }
 },
 "nbformat": 4,
 "nbformat_minor": 4
}
