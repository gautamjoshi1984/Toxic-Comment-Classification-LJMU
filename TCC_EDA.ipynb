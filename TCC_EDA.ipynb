{
 "cells": [
  {
   "cell_type": "markdown",
   "metadata": {
    "id": "trCjtGETLcd3"
   },
   "source": [
    "# Fine Tuning Transformer for MultiLabel Text Classification"
   ]
  },
  {
   "cell_type": "markdown",
   "metadata": {
    "id": "pLMjlGk4Lcd4"
   },
   "source": [
    "<a id='section01'></a>\n",
    "### Importing Python Libraries and preparing the environment\n",
    "\n",
    "At this step we will be importing the libraries and modules needed to run our script. Libraries are:\n",
    "* Pandas\n",
    "* Pytorch\n",
    "* Pytorch Utils for Dataset and Dataloader\n",
    "* Transformers\n",
    "* BERT Model and Tokenizer\n",
    "\n",
    "Followed by that we will preapre the device for GPU execeution. This configuration is needed if you want to leverage on onboard GPU.\n",
    "\n",
    "*I have included the code for TPU configuration, but commented it out. If you plan to use the TPU, please comment the GPU execution codes and uncomment the TPU ones to install the packages and define the device.*"
   ]
  },
  {
   "cell_type": "code",
   "execution_count": 1,
   "metadata": {
    "id": "pzM1_ykHaFur"
   },
   "outputs": [
    {
     "name": "stderr",
     "output_type": "stream",
     "text": [
      "C:\\Users\\gauta\\anaconda3\\Lib\\site-packages\\transformers\\utils\\generic.py:260: UserWarning: torch.utils._pytree._register_pytree_node is deprecated. Please use torch.utils._pytree.register_pytree_node instead.\n",
      "  torch.utils._pytree._register_pytree_node(\n",
      "C:\\Users\\gauta\\anaconda3\\Lib\\site-packages\\transformers\\utils\\generic.py:260: UserWarning: torch.utils._pytree._register_pytree_node is deprecated. Please use torch.utils._pytree.register_pytree_node instead.\n",
      "  torch.utils._pytree._register_pytree_node(\n"
     ]
    }
   ],
   "source": [
    "# Importing stock ml libraries\n",
    "import numpy as np\n",
    "import pandas as pd\n",
    "from sklearn import metrics\n",
    "import transformers\n",
    "import torch\n",
    "import matplotlib.pyplot as plt\n",
    "import seaborn as sns\n",
    "from torch.utils.data import Dataset, DataLoader, RandomSampler, SequentialSampler\n",
    "from transformers import BertTokenizer, BertModel, BertConfig\n",
    "from transformers import AutoTokenizer, AutoModelForSequenceClassification\n",
    "\n",
    "# Preparing for TPU usage\n",
    "# import torch_xla\n",
    "# import torch_xla.core.xla_model as xm\n",
    "# device = xm.xla_device()"
   ]
  },
  {
   "cell_type": "markdown",
   "metadata": {
    "id": "BUVgr8fZLcd5"
   },
   "source": [
    "<a id='section02'></a>\n",
    "### Importing and Pre-Processing the domain data\n",
    "\n",
    "We will be working with the data and preparing for fine tuning purposes.\n",
    "*Assuming that the `train.csv` is already downloaded, unzipped and saved in your `data` folder*\n",
    "\n",
    "* Import the file in a dataframe and give it the headers as per the documentation.\n",
    "* Taking the values of all the categories and coverting it into a list.\n",
    "* The list is appened as a new column and other columns are removed"
   ]
  },
  {
   "cell_type": "code",
   "execution_count": 2,
   "metadata": {
    "colab": {
     "base_uri": "https://localhost:8080/"
    },
    "id": "vqJuC48MScQi",
    "outputId": "70e1dd46-006b-43ff-ea3e-f536d0cd2f6b"
   },
   "outputs": [],
   "source": [
    "# from google.colab import drive\n",
    "# drive.mount('/content/drive')"
   ]
  },
  {
   "cell_type": "code",
   "execution_count": 3,
   "metadata": {
    "id": "mZ7lTlkyaG7u"
   },
   "outputs": [],
   "source": [
    "# df1_train = pd.read_parquet(\"/content/drive/MyDrive/TCC_Data/train-00000-of-00002.parquet\")\n",
    "# df2_train = pd.read_parquet(\"/content/drive/MyDrive/TCC_Data/train-00001-of-00002.parquet\")\n",
    "# df_validation = pd.read_parquet(\"/content/drive/MyDrive/TCC_Data/validation-00000-of-00001.parquet\")\n",
    "# df_test = pd.read_parquet(\"/content/drive/MyDrive/TCC_Data/test-00000-of-00001.parquet\")\n",
    "\n",
    "#Get data from dektop\n",
    "df1_train = pd.read_parquet(r\"C:\\Users\\gauta\\Documents\\LJMU Masters\\Toxicity\\Experiments\\Data\\train-00000-of-00002.parquet\")\n",
    "df2_train = pd.read_parquet(r\"C:\\Users\\gauta\\Documents\\LJMU Masters\\Toxicity\\Experiments\\Data\\train-00001-of-00002.parquet\")\n",
    "df_validation = pd.read_parquet(r\"C:\\Users\\gauta\\Documents\\LJMU Masters\\Toxicity\\Experiments\\Data\\validation-00000-of-00001.parquet\")\n",
    "df_test = pd.read_parquet(r\"C:\\Users\\gauta\\Documents\\LJMU Masters\\Toxicity\\Experiments\\Data\\test-00000-of-00001.parquet\")\n",
    "\n",
    "def conv_probs_to_labels(df):\n",
    "  df['toxicity'] = df['toxicity'].apply(lambda x: 0 if x <0.5 else 1)\n",
    "  df['severe_toxicity'] = df['severe_toxicity'].apply(lambda x: 0 if x <0.2 else 1)\n",
    "  df['obscene'] = df['obscene'].apply(lambda x: 0 if x <0.5 else 1)\n",
    "  df['threat'] = df['threat'].apply(lambda x: 0 if x <0.5 else 1)\n",
    "  df['insult'] = df['insult'].apply(lambda x: 0 if x <0.5 else 1)\n",
    "  df['identity_attack'] = df['identity_attack'].apply(lambda x: 0 if x <0.5 else 1)\n",
    "  df['sexual_explicit'] = df['sexual_explicit'].apply(lambda x: 0 if x <0.5 else 1)\n",
    "  return df\n",
    "\n",
    "df1_train = conv_probs_to_labels(df1_train)\n",
    "df2_train = conv_probs_to_labels(df2_train)\n",
    "df_validation = conv_probs_to_labels(df_validation)\n",
    "df_test = conv_probs_to_labels(df_test)\n",
    "\n",
    "df_train = pd.concat([df1_train,df2_train],axis=0)\n",
    "# df_train['list'] = df_train[df_train.columns[1:]].values.tolist()\n",
    "# df_test['list'] = df_test[df_test.columns[1:]].values.tolist()\n",
    "# df_validation['list'] = df_validation[df_validation.columns[1:]].values.tolist()\n",
    "# df_train = df_train[['text', 'list']].copy().reset_index()\n",
    "# df_test = df_test[['text', 'list']].copy().reset_index()\n",
    "# df_validation = df_validation[['text', 'list']].copy().reset_index()\n",
    "# df_train = df_train.head(5000)\n",
    "# df_test = df_test.head(1000)\n",
    "# df_validation = df_validation.head(1000)"
   ]
  },
  {
   "cell_type": "code",
   "execution_count": 4,
   "metadata": {},
   "outputs": [
    {
     "name": "stdout",
     "output_type": "stream",
     "text": [
      "(1804874, 8)\n",
      "(97320, 8)\n",
      "(97320, 8)\n"
     ]
    }
   ],
   "source": [
    "print(df_train.shape)\n",
    "print(df_test.shape)\n",
    "print(df_validation.shape)"
   ]
  },
  {
   "cell_type": "code",
   "execution_count": 5,
   "metadata": {},
   "outputs": [
    {
     "data": {
      "text/plain": [
       "Index(['text', 'toxicity', 'severe_toxicity', 'obscene', 'threat', 'insult',\n",
       "       'identity_attack', 'sexual_explicit'],\n",
       "      dtype='object')"
      ]
     },
     "execution_count": 5,
     "metadata": {},
     "output_type": "execute_result"
    }
   ],
   "source": [
    "df_train.columns"
   ]
  },
  {
   "cell_type": "code",
   "execution_count": 6,
   "metadata": {},
   "outputs": [
    {
     "data": {
      "text/plain": [
       "array([[0, 0, 0, ..., 0, 0, 0],\n",
       "       [0, 0, 0, ..., 0, 0, 0],\n",
       "       [0, 0, 0, ..., 0, 0, 0],\n",
       "       ...,\n",
       "       [0, 0, 0, ..., 0, 0, 0],\n",
       "       [1, 0, 0, ..., 1, 0, 0],\n",
       "       [0, 0, 0, ..., 0, 0, 0]], dtype=int64)"
      ]
     },
     "execution_count": 6,
     "metadata": {},
     "output_type": "execute_result"
    }
   ],
   "source": [
    "target_cols = ['toxicity','severe_toxicity','obscene','threat','insult','identity_attack','sexual_explicit']\n",
    "df_train[target_cols].values"
   ]
  },
  {
   "cell_type": "code",
   "execution_count": 7,
   "metadata": {},
   "outputs": [
    {
     "data": {
      "text/plain": [
       "text               0\n",
       "toxicity           0\n",
       "severe_toxicity    0\n",
       "obscene            0\n",
       "threat             0\n",
       "insult             0\n",
       "identity_attack    0\n",
       "sexual_explicit    0\n",
       "dtype: int64"
      ]
     },
     "execution_count": 7,
     "metadata": {},
     "output_type": "execute_result"
    }
   ],
   "source": [
    "#Check null values\n",
    "df_train.isnull().sum()"
   ]
  },
  {
   "cell_type": "code",
   "execution_count": 8,
   "metadata": {},
   "outputs": [
    {
     "name": "stdout",
     "output_type": "stream",
     "text": [
      "Percent of toxics 8.0 %\n",
      "Percent of severe_toxicity 0.36 %\n",
      "Percent of obscene 0.53 %\n",
      "Percent of threat 0.24 %\n",
      "Percent of insult 5.9 %\n",
      "Percent of identity_attack 0.74 %\n",
      "Percent of sexual_explicit 0.26 %\n"
     ]
    }
   ],
   "source": [
    "#Distribution of the target variable data in terms of proportions.\n",
    "\n",
    "print(\"Percent of toxics\", round(df_train['toxicity'].sum()/(len(df_train['toxicity']))*100,2), \"%\")\n",
    "print(\"Percent of severe_toxicity\", round(df_train['severe_toxicity'].sum()/(len(df_train['severe_toxicity']))*100,2), \"%\")\n",
    "print(\"Percent of obscene\", round(df_train['obscene'].sum()/(len(df_train['obscene']))*100,2), \"%\")\n",
    "print(\"Percent of threat\", round(df_train['threat'].sum()/(len(df_train['threat']))*100,2), \"%\")\n",
    "print(\"Percent of insult\", round(df_train['insult'].sum()/(len(df_train['insult']))*100,2), \"%\")\n",
    "print(\"Percent of identity_attack\", round(df_train['identity_attack'].sum()/(len(df_train['identity_attack']))*100,2), \"%\")\n",
    "print(\"Percent of sexual_explicit\", round(df_train['sexual_explicit'].sum()/(len(df_train['sexual_explicit']))*100,2), \"%\")"
   ]
  },
  {
   "cell_type": "code",
   "execution_count": 9,
   "metadata": {},
   "outputs": [
    {
     "name": "stdout",
     "output_type": "stream",
     "text": [
      "Numer of toxics 144334\n",
      "Numer of severe_toxicity 6438\n",
      "Numer of obscene 9603\n",
      "Numer of threat 4280\n",
      "Numer of insult 106534\n",
      "Numer of identity_attack 13410\n",
      "Numer of sexual_explicit 4686\n"
     ]
    }
   ],
   "source": [
    "#Count of each class\n",
    "\n",
    "print(\"Numer of toxics\", df_train['toxicity'].sum())\n",
    "print(\"Numer of severe_toxicity\", df_train['severe_toxicity'].sum())\n",
    "print(\"Numer of obscene\", df_train['obscene'].sum())\n",
    "print(\"Numer of threat\", df_train['threat'].sum())\n",
    "print(\"Numer of insult\", df_train['insult'].sum())\n",
    "print(\"Numer of identity_attack\", df_train['identity_attack'].sum())\n",
    "print(\"Numer of sexual_explicit\", df_train['sexual_explicit'].sum())"
   ]
  },
  {
   "cell_type": "code",
   "execution_count": 10,
   "metadata": {},
   "outputs": [
    {
     "data": {
      "text/plain": [
       "<Axes: xlabel='text', ylabel='Count'>"
      ]
     },
     "execution_count": 10,
     "metadata": {},
     "output_type": "execute_result"
    },
    {
     "data": {
      "image/png": "[encoded data removed]",
      "text/plain": [
       "<Figure size 640x480 with 1 Axes>"
      ]
     },
     "metadata": {},
     "output_type": "display_data"
    }
   ],
   "source": [
    "#Length of messages\n",
    "sns.histplot(df_train.text.str.len(),bins=20)"
   ]
  },
  {
   "cell_type": "code",
   "execution_count": 40,
   "metadata": {},
   "outputs": [],
   "source": [
    "#Sample Data\n",
    "#Technique - All positive classes and down sample the negative classes as we have an imbalanced dataset\n",
    "#Target to keep the training data down to 50000 data points due to the hardware limitations\n",
    "\n",
    "def sample_dataset(df_train):\n",
    "\n",
    "    df_positive = df_train[((df_train['toxicity'] == 1) | \n",
    "                           (df_train['severe_toxicity'] == 1) | \n",
    "                           (df_train['obscene'] == 1) | \n",
    "                           (df_train['threat'] == 1) | \n",
    "                           (df_train['insult'] == 1) | \n",
    "                           (df_train['identity_attack'] == 1) | \n",
    "                           (df_train['sexual_explicit'] == 1)) &\n",
    "                           (df_train.text.str.len() <300)]\n",
    "\n",
    "    print(df_positive.shape)\n",
    "    df_negative = df_train[(df_train['toxicity'] == 0) & \n",
    "                           (df_train['severe_toxicity'] == 0) & \n",
    "                           (df_train['obscene'] == 0) & \n",
    "                           (df_train['threat'] == 0) & \n",
    "                           (df_train['insult'] == 0) & \n",
    "                           (df_train['identity_attack'] == 0) & \n",
    "                           (df_train['sexual_explicit'] == 0) &\n",
    "                           (df_train['text'].str.len() <300)]\n",
    "\n",
    "    print(df_negative.shape)\n",
    "    df_negative = df_negative.sample(frac=0.1)\n",
    "    print(df_negative.shape)\n",
    "\n",
    "    df_train_final = pd.concat([df_negative,df_positive],axis=0)\n",
    "    df_train_final = df_train_final.sample(frac = 1).reset_index(drop = True)\n",
    "    return df_train_final"
   ]
  },
  {
   "cell_type": "code",
   "execution_count": 35,
   "metadata": {},
   "outputs": [],
   "source": [
    "df_train_final.shape\n",
    "df_train = df_train_final"
   ]
  },
  {
   "cell_type": "code",
   "execution_count": 36,
   "metadata": {},
   "outputs": [
    {
     "data": {
      "text/plain": [
       "(206450, 8)"
      ]
     },
     "execution_count": 36,
     "metadata": {},
     "output_type": "execute_result"
    }
   ],
   "source": [
    "df_train.shape"
   ]
  },
  {
   "cell_type": "code",
   "execution_count": 37,
   "metadata": {},
   "outputs": [],
   "source": [
    "df_train.to_parquet(r\"C:\\Users\\gauta\\Documents\\LJMU Masters\\Toxicity\\Experiments\\Data\\train.parquet\")"
   ]
  },
  {
   "cell_type": "code",
   "execution_count": 41,
   "metadata": {},
   "outputs": [
    {
     "name": "stdout",
     "output_type": "stream",
     "text": [
      "(5337, 8)\n",
      "(56781, 8)\n",
      "(5678, 8)\n",
      "(5490, 8)\n",
      "(56867, 8)\n",
      "(5687, 8)\n"
     ]
    }
   ],
   "source": [
    "df_validation_sample = sample_dataset(df_validation)\n",
    "df_test_sample = sample_dataset(df_test)\n",
    "\n",
    "df_validation_sample.to_parquet(r\"C:\\Users\\gauta\\Documents\\LJMU Masters\\Toxicity\\Experiments\\Data\\validation.parquet\")\n",
    "df_test_sample.to_parquet(r\"C:\\Users\\gauta\\Documents\\LJMU Masters\\Toxicity\\Experiments\\Data\\test.parquet\")"
   ]
  },
  {
   "cell_type": "code",
   "execution_count": 43,
   "metadata": {},
   "outputs": [
    {
     "data": {
      "text/plain": [
       "(11177, 8)"
      ]
     },
     "execution_count": 43,
     "metadata": {},
     "output_type": "execute_result"
    }
   ],
   "source": [
    "df_validation_sample.shape\n",
    "df_test_sample.shape"
   ]
  },
  {
   "cell_type": "code",
   "execution_count": 38,
   "metadata": {},
   "outputs": [
    {
     "name": "stdout",
     "output_type": "stream",
     "text": [
      "Percent of toxics 46.89 %\n",
      "Percent of severe_toxicity 1.77 %\n",
      "Percent of obscene 3.19 %\n",
      "Percent of threat 1.83 %\n",
      "Percent of insult 34.52 %\n",
      "Percent of identity_attack 4.2 %\n",
      "Percent of sexual_explicit 1.58 %\n"
     ]
    }
   ],
   "source": [
    "#Distribution of the target variable data in terms of proportions.\n",
    "\n",
    "print(\"Percent of toxics\", round(df_train['toxicity'].sum()/(len(df_train['toxicity']))*100,2), \"%\")\n",
    "print(\"Percent of severe_toxicity\", round(df_train['severe_toxicity'].sum()/(len(df_train['severe_toxicity']))*100,2), \"%\")\n",
    "print(\"Percent of obscene\", round(df_train['obscene'].sum()/(len(df_train['obscene']))*100,2), \"%\")\n",
    "print(\"Percent of threat\", round(df_train['threat'].sum()/(len(df_train['threat']))*100,2), \"%\")\n",
    "print(\"Percent of insult\", round(df_train['insult'].sum()/(len(df_train['insult']))*100,2), \"%\")\n",
    "print(\"Percent of identity_attack\", round(df_train['identity_attack'].sum()/(len(df_train['identity_attack']))*100,2), \"%\")\n",
    "print(\"Percent of sexual_explicit\", round(df_train['sexual_explicit'].sum()/(len(df_train['sexual_explicit']))*100,2), \"%\")"
   ]
  },
  {
   "cell_type": "code",
   "execution_count": 39,
   "metadata": {},
   "outputs": [
    {
     "data": {
      "text/plain": [
       "<Axes: xlabel='text', ylabel='Count'>"
      ]
     },
     "execution_count": 39,
     "metadata": {},
     "output_type": "execute_result"
    },
    {
     "data": {
      "image/png": "[encoded data removed]",
      "text/plain": [
       "<Figure size 640x480 with 1 Axes>"
      ]
     },
     "metadata": {},
     "output_type": "display_data"
    }
   ],
   "source": [
    "#Length of messages\n",
    "sns.histplot(df_train.text.str.len(),bins=20)"
   ]
  },
  {
   "cell_type": "code",
   "execution_count": null,
   "metadata": {},
   "outputs": [],
   "source": []
  }
 ],
 "metadata": {
  "accelerator": "GPU",
  "colab": {
   "gpuType": "T4",
   "provenance": []
  },
  "kernelspec": {
   "display_name": "Python 3 (ipykernel)",
   "language": "python",
   "name": "python3"
  },
  "language_info": {
   "codemirror_mode": {
    "name": "ipython",
    "version": 3
   },
   "file_extension": ".py",
   "mimetype": "text/x-python",
   "name": "python",
   "nbconvert_exporter": "python",
   "pygments_lexer": "ipython3",
   "version": "3.11.5"
  }
 },
 "nbformat": 4,
 "nbformat_minor": 1
}
